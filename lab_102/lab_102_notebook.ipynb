{
 "cells": [
  {
   "cell_type": "markdown",
   "metadata": {},
   "source": [
    "<img align=\"center\" style=\"max-width: 900px; height: auto\" src=\"./banner.png\">"
   ]
  },
  {
   "cell_type": "markdown",
   "metadata": {},
   "source": [
    "<img align=\"right\" style=\"max-width: 200px; height: auto\" src=\"./hsg_logo.png\">\n",
    "\n",
    "###  Lab 102 - Python Data Types and Containers\n",
    "\n",
    "8,860,1.00 Machine Learning, Spring Term 2024, University of St.Gallen (HSG)"
   ]
  },
  {
   "cell_type": "markdown",
   "metadata": {},
   "source": [
    "The lab environment of the **8,860,1.00 Machine Learning** course builds on Jupyter Notebooks (https://jupyter.org), which provide a full-fledged Python environment for writing Python code. \n",
    "In this first lab, we will touch on the basic concepts and techniques of such Notebooks and the Python programming language in general."
   ]
  },
  {
   "cell_type": "markdown",
   "metadata": {},
   "source": [
    "### Lab Objectives:"
   ]
  },
  {
   "cell_type": "markdown",
   "metadata": {},
   "source": [
    "After today's lab, you should be able to:\n",
    "    \n",
    "> 1. Understand the very basics of **Python code, variables and functions**.\n",
    "> 2. Know the distinct **Python data types**, such as integers, floats, booleans, strings. \n",
    "> 3. Implement fundamental **Python programming structures**, such as loops and decision structures.\n",
    "> 4. Code own **Python functions** to compute single, related actions.\n",
    "> 5. Know how to import and use **external Python modules** to enhance a notebook."
   ]
  },
  {
   "cell_type": "markdown",
   "metadata": {},
   "source": [
    "## 1. The very Basics of Python Programming\n",
    "\n",
    "Writing Python **code** is as simple as writing text. \n",
    "\n",
    "Let's start with the typical Hello-World example:"
   ]
  },
  {
   "cell_type": "code",
   "execution_count": null,
   "metadata": {},
   "outputs": [],
   "source": [
    "print('hello world!') "
   ]
  },
  {
   "cell_type": "markdown",
   "metadata": {},
   "source": [
    "This code cell consists of a **function** call to the `print` function, which contains one **argument** (`'hello world!'`). The purpose of the `print` function is to print the argument on the screen. \n",
    "\n",
    "In order to support more or less complex calculations, Python supports **variables** to which values can be assigned:"
   ]
  },
  {
   "cell_type": "code",
   "execution_count": null,
   "metadata": {},
   "outputs": [],
   "source": [
    "a = 3"
   ]
  },
  {
   "cell_type": "markdown",
   "metadata": {},
   "source": [
    "The value of **object** `b` is now 3; whenever the variable is evaluated, it is replaced by this value:"
   ]
  },
  {
   "cell_type": "code",
   "execution_count": null,
   "metadata": {},
   "outputs": [],
   "source": [
    "a"
   ]
  },
  {
   "cell_type": "markdown",
   "metadata": {},
   "source": [
    "This can be exploited for mathematical expressions:"
   ]
  },
  {
   "cell_type": "code",
   "execution_count": null,
   "metadata": {},
   "outputs": [],
   "source": [
    "a + 1"
   ]
  },
  {
   "cell_type": "markdown",
   "metadata": {},
   "source": [
    "But note that the value of `a` does not change:"
   ]
  },
  {
   "cell_type": "code",
   "execution_count": null,
   "metadata": {},
   "outputs": [],
   "source": [
    "a"
   ]
  },
  {
   "cell_type": "markdown",
   "metadata": {},
   "source": [
    "The value of `a` only changes when `=` is involved"
   ]
  },
  {
   "cell_type": "code",
   "execution_count": null,
   "metadata": {},
   "outputs": [],
   "source": [
    "a = a + 1"
   ]
  },
  {
   "cell_type": "code",
   "execution_count": null,
   "metadata": {},
   "outputs": [],
   "source": [
    "a"
   ]
  },
  {
   "cell_type": "markdown",
   "metadata": {},
   "source": [
    "#### Comments\n",
    "\n",
    "The `#` character has a special meaning in Python. Whenever it appears, all following characters on the same line are considered a comment and are ignored. You can use comments to explain what certain parts of your code do."
   ]
  },
  {
   "cell_type": "code",
   "execution_count": null,
   "metadata": {},
   "outputs": [],
   "source": [
    "# this is a comment"
   ]
  },
  {
   "cell_type": "code",
   "execution_count": null,
   "metadata": {},
   "outputs": [],
   "source": [
    "print(1) # comments can be on the same line as code, too"
   ]
  },
  {
   "cell_type": "markdown",
   "metadata": {
    "id": "4hlk6IuZAhr9"
   },
   "source": [
    "## 2. Fundamental Python Data Types"
   ]
  },
  {
   "cell_type": "markdown",
   "metadata": {
    "id": "kGC27WsnAhr9"
   },
   "source": [
    "In general, a data type defines the format, sets the upper and lower bounds of the data so that a program could use it appropriately. However, **Python data types** are just more than that. In Python, we don’t need to declare a variable with explicitly mentioning the data type. This feature is famously known as **dynamic typing**."
   ]
  },
  {
   "cell_type": "markdown",
   "metadata": {
    "id": "I_Sdc2hCAhr9"
   },
   "source": [
    "Python determines the type of a literal (an element of code that has a fixed value) directly from the syntax at **runtime**. For example, the quotes mark the declaration of a string value, square brackets represent a list and curly brackets for a dictionary. Also, the non-decimal numbers will get assigned to Integer type whereas the ones with a decimal point will be a float."
   ]
  },
  {
   "cell_type": "markdown",
   "metadata": {
    "id": "3etc1a-UAhr9"
   },
   "source": [
    "There are four basic data types in the Python programming language:\n",
    "\n",
    "> * **Integer's** - represent positive or negative whole numbers with no decimal point.\n",
    "> * **Float's** - represent positive or negative real numbers and are written with a decimal point.\n",
    "> * **String's** - represent sequences of Unicode characters.\n",
    "> * **Boolean's** - represent constant objects that are either 'False' and 'True'. "
   ]
  },
  {
   "cell_type": "markdown",
   "metadata": {
    "id": "pm4m8RuEAhr9"
   },
   "source": [
    "<img align=\"center\" style=\"max-width: 800px; height: auto\" src=\"https://github.com/HSG-AIML/LabMLDL/blob/main/lab_01/python_data_types.png?raw=1\">"
   ]
  },
  {
   "cell_type": "markdown",
   "metadata": {
    "id": "872PrAW0Ahr9"
   },
   "source": [
    "(Source: https://www.tes.com/teaching-resource/python-version-3-data-types-11949410.) "
   ]
  },
  {
   "cell_type": "markdown",
   "metadata": {
    "id": "xUWah-KXAhr9"
   },
   "source": [
    "#### 2.1 Numerical Data Type \"Integer\""
   ]
  },
  {
   "cell_type": "markdown",
   "metadata": {
    "id": "gpsXfiWeAhr9"
   },
   "source": [
    "Whole numbers are one of the most prominent Python data types. Whole numbers in Python are often called just **'integers'** or **'ints'** and are positive or negative whole numbers with no decimal point. In Python 3, there is effectively no limit to how big an integer value can be. \n",
    "\n",
    "Of course, it is constrained by the **amount of memory** your system has, as are all things. But beyond that, an integer can be as long as you need it to be:"
   ]
  },
  {
   "cell_type": "code",
   "execution_count": null,
   "metadata": {
    "id": "2KWVklmeAhr9"
   },
   "outputs": [],
   "source": [
    "x = 3\n",
    "x"
   ]
  },
  {
   "cell_type": "markdown",
   "metadata": {
    "id": "TpBAAs5DAhr-"
   },
   "source": [
    "Print the variable type:"
   ]
  },
  {
   "cell_type": "code",
   "execution_count": null,
   "metadata": {
    "id": "_FPHU3tUAhr-"
   },
   "outputs": [],
   "source": [
    "type(x)"
   ]
  },
  {
   "cell_type": "markdown",
   "metadata": {
    "id": "KaCCn1B_Ahr-"
   },
   "source": [
    "Basic mathematical operations:"
   ]
  },
  {
   "cell_type": "code",
   "execution_count": null,
   "metadata": {
    "id": "darB8tgDAhr-"
   },
   "outputs": [],
   "source": [
    "print(x + 1)   # addition\n",
    "print(x - 1)   # subtraction\n",
    "print(x * 2)   # multiplication\n",
    "print(x ** 2)  # exponentiation "
   ]
  },
  {
   "cell_type": "markdown",
   "metadata": {
    "id": "fdbS7tnRAhr-"
   },
   "source": [
    "Note that `x` still has the same value after these operations. This is due to the fact that we did not assign a new value to this variable. We can change its value by combining the two notations that we used above:"
   ]
  },
  {
   "cell_type": "code",
   "execution_count": null,
   "metadata": {
    "id": "WByN-ov2Ahr-"
   },
   "outputs": [],
   "source": [
    "print(x, 'original value')\n",
    "x = x + 1\n",
    "print(x, 'after adding 1')\n",
    "x = x * 2\n",
    "print(x, 'after multiplying with 2')\n",
    "x = x - 5\n",
    "print(x, 'after subtracting 5')"
   ]
  },
  {
   "cell_type": "markdown",
   "metadata": {
    "id": "m3yXtk1zAhr-"
   },
   "source": [
    "Here are some shortcuts for basic operations combined with value assignment:"
   ]
  },
  {
   "cell_type": "code",
   "execution_count": null,
   "metadata": {
    "id": "xnbVyfnjAhr-"
   },
   "outputs": [],
   "source": [
    "x += 1\n",
    "print(x)  # prints \"4\"\n",
    "x *= 2\n",
    "print(x)  # prints \"8\""
   ]
  },
  {
   "cell_type": "markdown",
   "metadata": {
    "id": "NaxUKPB5Ahr-"
   },
   "source": [
    "#### 2.2 Numerical Data Type \"Float\""
   ]
  },
  {
   "cell_type": "markdown",
   "metadata": {
    "id": "RvEFVczLAhr-"
   },
   "source": [
    "The **float** type in Python represents real numbers and are written with a decimal point dividing the integer and fractional parts. As a result, float values are specified with a decimal point and are often called just **'floats'**.\n",
    "\n",
    "A float type number can have precision up to **15 decimal places**:"
   ]
  },
  {
   "cell_type": "code",
   "execution_count": null,
   "metadata": {
    "id": "XtIeuLuCAhr-"
   },
   "outputs": [],
   "source": [
    "y = 3.0\n",
    "print(y)"
   ]
  },
  {
   "cell_type": "markdown",
   "metadata": {
    "id": "bvB3W2DuAhr-"
   },
   "source": [
    "Print the variable type:"
   ]
  },
  {
   "cell_type": "code",
   "execution_count": null,
   "metadata": {
    "id": "UAf9ZSBdAhr-"
   },
   "outputs": [],
   "source": [
    "type(y)"
   ]
  },
  {
   "cell_type": "markdown",
   "metadata": {
    "id": "f7roGf_TAhr-"
   },
   "source": [
    "Basic mathematical operations:"
   ]
  },
  {
   "cell_type": "code",
   "execution_count": null,
   "metadata": {
    "id": "qWek_fb6Ahr-"
   },
   "outputs": [],
   "source": [
    "print(y + 1)   # addition\n",
    "print(y - 1)   # subtraction\n",
    "print(y * 2)   # multiplication\n",
    "print(y ** 2)  # exponentation"
   ]
  },
  {
   "cell_type": "markdown",
   "metadata": {
    "id": "PyN8jd-EAhr-"
   },
   "source": [
    "Optionally, the character e or E followed by a positive or negative integer may be appended to specify scientific notation:"
   ]
  },
  {
   "cell_type": "code",
   "execution_count": null,
   "metadata": {
    "id": "SAOdwPMkAhr-"
   },
   "outputs": [],
   "source": [
    "z = 1e-7      # equals 0.0000001\n",
    "print(z)\n",
    "print(z + 1)\n",
    "print(z * 2)\n",
    "print(z ** 2)"
   ]
  },
  {
   "cell_type": "markdown",
   "metadata": {
    "id": "h8i6xfnaAhr-"
   },
   "source": [
    "#### 2.3 Non-Numerical Data Type \"String\""
   ]
  },
  {
   "cell_type": "markdown",
   "metadata": {
    "id": "iz5xnvarAhr-"
   },
   "source": [
    "A sequence of one or more characters enclosed within either single quotes `'` or double quotes `\"` is considered as a **string** in Python. Any letter, a number or a symbol could be a part of the string. All the characters between the opening delimiter and matching closing delimiter are part of the string:"
   ]
  },
  {
   "cell_type": "code",
   "execution_count": null,
   "metadata": {
    "id": "s6DTT6qNAhr-"
   },
   "outputs": [],
   "source": [
    "hello = 'hello'    # string literals can use single quotes\n",
    "hello2 = \"gruezi\"  # or double quotes; it does not matter.\n",
    "print(hello)"
   ]
  },
  {
   "cell_type": "markdown",
   "metadata": {
    "id": "umpjULcKAhr-"
   },
   "source": [
    "Print the variable type:"
   ]
  },
  {
   "cell_type": "code",
   "execution_count": null,
   "metadata": {
    "id": "F6yrWc1hAhr-"
   },
   "outputs": [],
   "source": [
    "type(hello)"
   ]
  },
  {
   "cell_type": "markdown",
   "metadata": {
    "id": "sAEpANuFAhr-"
   },
   "source": [
    "Print the length of each string in terms of a number of characters:"
   ]
  },
  {
   "cell_type": "code",
   "execution_count": null,
   "metadata": {
    "id": "xle40UhVAhr-"
   },
   "outputs": [],
   "source": [
    "print(len(hello))\n",
    "print(len(hello2))"
   ]
  },
  {
   "cell_type": "markdown",
   "metadata": {
    "id": "TjT5t9KuAhr_"
   },
   "source": [
    "Like most programming languages, Python allows accessing individual characters of a string based on their \"index\", which indicates the position in the string. \n",
    "\n",
    "**Important Python Rule No. 1: Python starts counting indices at 0.**\n",
    "\n",
    "The index of the first character is 0, the index of the second character is 1, and so on. Reaching the end of a string seems tedious? Not really, since Python also supports negative indexes. Index -1 represents the last character of the String. Similarly using -2, we can access the penultimate character of the string and so on:"
   ]
  },
  {
   "cell_type": "code",
   "execution_count": null,
   "metadata": {
    "id": "Qrbxn0zUAhr_"
   },
   "outputs": [],
   "source": [
    "print('first character:', hello[0])   \n",
    "print('third character:', hello[2])   \n",
    "print('last character:', hello[-1])   \n",
    "print('penulminate character:', hello[-2])   "
   ]
  },
  {
   "cell_type": "markdown",
   "metadata": {
    "id": "-4CtNNh3Ahr_"
   },
   "source": [
    "Concatenate two strings, e.g., to form a sentence:"
   ]
  },
  {
   "cell_type": "code",
   "execution_count": null,
   "metadata": {
    "id": "37TZkrLHAhr_"
   },
   "outputs": [],
   "source": [
    "hw = hello + '_' + hello2 + ' and guten tag' # string concatenation\n",
    "print(hw)  # prints \"hello world, my name is peterli 12\""
   ]
  },
  {
   "cell_type": "markdown",
   "metadata": {
    "id": "fhTpE7vWAhr_"
   },
   "source": [
    "String objects have a bunch of useful methods; for example:"
   ]
  },
  {
   "cell_type": "code",
   "execution_count": null,
   "metadata": {
    "id": "Y-CMRkieAhr_"
   },
   "outputs": [],
   "source": [
    "s = \"hello\"                     # init string variable\n",
    "print(s.capitalize())           # capitalize a string; prints \"Hello\"\n",
    "print(s.upper())                # convert a string to uppercase; prints \"HELLO\"\n",
    "print(s.rjust(7))               # right-justify a string, padding with spaces; prints \"  hello\"\n",
    "print(s.center(7))              # center a string, padding with spaces; prints \" hello \"\n",
    "print(s.replace('l', '(ell)'))  # replace all instances of one substring with another;"
   ]
  },
  {
   "cell_type": "markdown",
   "metadata": {},
   "source": [
    "Strings can be formatted automatically, e.g., consider the following example of printing the temperature:"
   ]
  },
  {
   "cell_type": "code",
   "execution_count": null,
   "metadata": {},
   "outputs": [],
   "source": [
    "temp = 12.1\n",
    "\n",
    "print(\"The current temperature is {}.\".format(temp))"
   ]
  },
  {
   "cell_type": "markdown",
   "metadata": {
    "id": "mLTPXEkRAhr_"
   },
   "source": [
    "#### 2.4 Non-Numerical Data Type \"boolean\""
   ]
  },
  {
   "cell_type": "markdown",
   "metadata": {
    "id": "9rBSDo72Ahr_"
   },
   "source": [
    "Python provides a Boolean data type. Objects of type boolean type may have one of two values, \"True\" or \"False\":"
   ]
  },
  {
   "cell_type": "code",
   "execution_count": null,
   "metadata": {
    "id": "pnGl-y-YAhr_"
   },
   "outputs": [],
   "source": [
    "a = True\n",
    "b = False\n",
    "print(a)\n",
    "print(b)"
   ]
  },
  {
   "cell_type": "markdown",
   "metadata": {
    "id": "qDwZYNYFAhr_"
   },
   "source": [
    "Print the variable type:"
   ]
  },
  {
   "cell_type": "code",
   "execution_count": null,
   "metadata": {
    "id": "AgcibAXUAhsA"
   },
   "outputs": [],
   "source": [
    "type(a)"
   ]
  },
  {
   "cell_type": "markdown",
   "metadata": {
    "id": "e5-q0QRpAhsA"
   },
   "source": [
    "Booleans are often used in Python to test conditions or constraints. For example, a string in Python can be tested for truth value. The return type will be then a Boolean value (True or False). Let’s have a look at a few examples:"
   ]
  },
  {
   "cell_type": "code",
   "execution_count": null,
   "metadata": {},
   "outputs": [],
   "source": [
    "2 > 1  # read: is 2 greater than 1?"
   ]
  },
  {
   "cell_type": "code",
   "execution_count": null,
   "metadata": {},
   "outputs": [],
   "source": [
    "1 > 2  # read: is 1 greater than 2?"
   ]
  },
  {
   "cell_type": "code",
   "execution_count": null,
   "metadata": {},
   "outputs": [],
   "source": [
    "1 == 2  # read: is 1 equal to 2?"
   ]
  },
  {
   "cell_type": "markdown",
   "metadata": {},
   "source": [
    "Methods can return booleans, too:"
   ]
  },
  {
   "cell_type": "code",
   "execution_count": null,
   "metadata": {
    "id": "4P7rzjbhAhsA"
   },
   "outputs": [],
   "source": [
    "s1 = 'This is a test string.'\n",
    "result_upper = s1.isupper()        # test if string contains only upper case characters\n",
    "print(result_upper)"
   ]
  },
  {
   "cell_type": "markdown",
   "metadata": {
    "id": "NCt2v7X7AhsA"
   },
   "source": [
    "We can even logically combine the tested conditions above:"
   ]
  },
  {
   "cell_type": "code",
   "execution_count": null,
   "metadata": {
    "id": "kuZZwqeSAhsA"
   },
   "outputs": [],
   "source": [
    "print(a and b)               # Logical AND; prints \"False\"\n",
    "print(a or b)                # Logical OR; prints \"True\"\n",
    "print(a and result_upper)    # Logical AND; prints \"True\"\n",
    "print(not a)                 # Logical NOT; prints \"False\"\n",
    "print(a != b)                # Logical XOR; prints \"True\""
   ]
  },
  {
   "cell_type": "markdown",
   "metadata": {
    "id": "om8yoCtlAhsA"
   },
   "source": [
    "As you will see in upcoming labs, expressions in Python are often evaluated in a boolean context, meaning they are interpreted to represent truth or falsehood. A value that is true in Boolean context is sometimes said to be “truthy,” and one that is false in Boolean context is said to be “falsy”."
   ]
  },
  {
   "cell_type": "markdown",
   "metadata": {
    "id": "gAktEvEHAhsB"
   },
   "source": [
    "## 3. Fundamental Python Data Containers"
   ]
  },
  {
   "cell_type": "markdown",
   "metadata": {
    "id": "oXL3MIogAhsB"
   },
   "source": [
    "There are four collection data types in the Python programming language:\n",
    "\n",
    "> * **List** - is a collection which is ordered and changeable. Allows duplicate members.\n",
    "> * **Tuple** - is a collection which is ordered and unchangeable. Allows duplicate members.\n",
    "> * **Set** - is a collection which is unordered and unindexed. No duplicate members.\n",
    "> * **Dictionary** - is a collection which is unordered, changeable and indexed. No duplicate members.\n",
    "\n",
    "When choosing a collection type, it is useful to understand the properties of that type. Choosing the right type for a particular data set could mean retention of meaning, and, it could mean an increase in efficiency or security. \n",
    "\n",
    "During this lab, we will have a closer look into **lists** and **dictionaries**."
   ]
  },
  {
   "cell_type": "markdown",
   "metadata": {
    "id": "HeqWM-1DAhsB"
   },
   "source": [
    "<img align=\"center\" style=\"max-width: 800px; height: auto\" src=\"https://github.com/HSG-AIML/LabMLDL/blob/main/lab_01/python_data_containers.png?raw=1\">"
   ]
  },
  {
   "cell_type": "markdown",
   "metadata": {
    "id": "oLu2XES9AhsB"
   },
   "source": [
    "(Source: https://www.tes.com/teaching-resource/python-version-3-data-types-11949410.) "
   ]
  },
  {
   "cell_type": "markdown",
   "metadata": {
    "id": "_pdB4n_0AhsB"
   },
   "source": [
    "#### 3.1. Data Container \"List\""
   ]
  },
  {
   "cell_type": "markdown",
   "metadata": {
    "id": "roWncLMJAhsB"
   },
   "source": [
    "A list is a collection of basic Python data types in which \"elements\" are ordered in a mutable (elements can be changed) sequence.\n",
    "\n",
    "In Python, lists are written with square brackets. Python lists allow duplicate elements, are resizeable and can contain elements of different data types. Lists can be initialized like this:"
   ]
  },
  {
   "cell_type": "code",
   "execution_count": null,
   "metadata": {},
   "outputs": [],
   "source": [
    "l = [42, 5, 128, 5, 97, 208]\n",
    "l                       "
   ]
  },
  {
   "cell_type": "markdown",
   "metadata": {},
   "source": [
    "Similarly to strings, list elements can accessed using the same square-bracket formalism (keep in mind our Import Python Rule No. 1):"
   ]
  },
  {
   "cell_type": "code",
   "execution_count": null,
   "metadata": {},
   "outputs": [],
   "source": [
    "print('first element:', l[0])\n",
    "print('third element:', l[2])\n",
    "print('last element:', l[-1])\n",
    "print('penultimate element:', l[-2])"
   ]
  },
  {
   "cell_type": "markdown",
   "metadata": {
    "id": "EyJOQCk_AhsB"
   },
   "source": [
    "(This parallelism to strings is not by accident: strings are simply implemented as lists of characters in Python.) "
   ]
  },
  {
   "cell_type": "markdown",
   "metadata": {
    "id": "YwuSfBVAAhsB"
   },
   "source": [
    "Lists are their own variable type:"
   ]
  },
  {
   "cell_type": "code",
   "execution_count": null,
   "metadata": {
    "id": "6tYjOue2AhsB"
   },
   "outputs": [],
   "source": [
    "type(l)"
   ]
  },
  {
   "cell_type": "markdown",
   "metadata": {
    "id": "dTF6z3PPAhsC"
   },
   "source": [
    "Determine the total number of list elements:"
   ]
  },
  {
   "cell_type": "code",
   "execution_count": null,
   "metadata": {
    "id": "Jabb09G9AhsC"
   },
   "outputs": [],
   "source": [
    "print(len(l))         # print the number of elements contained in the list"
   ]
  },
  {
   "cell_type": "markdown",
   "metadata": {
    "id": "umyLNivhAhsC"
   },
   "source": [
    "Replace a list element by assigning a new value at a specific index:"
   ]
  },
  {
   "cell_type": "code",
   "execution_count": null,
   "metadata": {
    "id": "w-QLB8TEAhsC"
   },
   "outputs": [],
   "source": [
    "l[2] = 'happy'        # lists can contain elements of different types\n",
    "print(l)"
   ]
  },
  {
   "cell_type": "markdown",
   "metadata": {
    "id": "pvjIVfOEAhsC"
   },
   "source": [
    "Append an element to the end of a list:"
   ]
  },
  {
   "cell_type": "code",
   "execution_count": null,
   "metadata": {
    "id": "oohToEtaAhsC"
   },
   "outputs": [],
   "source": [
    "l.append('coding')    # add a new element to the end of the list\n",
    "print(l)"
   ]
  },
  {
   "cell_type": "markdown",
   "metadata": {
    "id": "j0lF8PxpAhsC"
   },
   "source": [
    "Create a list of numbers:"
   ]
  },
  {
   "cell_type": "code",
   "execution_count": null,
   "metadata": {
    "id": "gogk0tbAAhsC"
   },
   "outputs": [],
   "source": [
    "l = list(range(5))     # range is a built-in function that creates a list of integers\n",
    "print(l)               # prints \"[0, 1, 2, 3, 4]\""
   ]
  },
  {
   "cell_type": "markdown",
   "metadata": {
    "id": "U8zlgAe7AhsC"
   },
   "source": [
    "Slice list using distinct indexing techniques:"
   ]
  },
  {
   "cell_type": "code",
   "execution_count": null,
   "metadata": {
    "id": "tHMaNkVjAhsC"
   },
   "outputs": [],
   "source": [
    "print(l[2:4])    # get a slice from index 2 to 4 (exclusive); prints \"[2, 3]\"\n",
    "print(l[2:])     # get a slice from index 2 to the end; prints \"[2, 3, 4]\"\n",
    "print(l[:2])     # get a slice from the start to index 2 (exclusive); prints \"[0, 1]\"\n",
    "print(l[:])      # get a slice of the whole list; prints [\"0, 1, 2, 3, 4]\"\n",
    "print(l[:-1])    # slice indices can be negative; prints [\"0, 1, 2, 3]\"\n",
    "print(l[::-1])   # you can also modify the step size and reverse the list"
   ]
  },
  {
   "cell_type": "markdown",
   "metadata": {
    "id": "AGOhPrZqAhsC"
   },
   "source": [
    "Replace range of list elements:"
   ]
  },
  {
   "cell_type": "code",
   "execution_count": null,
   "metadata": {
    "id": "FyLbZ9ZJAhsC"
   },
   "outputs": [],
   "source": [
    "l[2:4] = [8, 9]  # assign a new sublist to a slice\n",
    "print(l)         # prints \"[0, 1, 8, 9, 4]\""
   ]
  },
  {
   "cell_type": "markdown",
   "metadata": {},
   "source": [
    "#### 3.2 Intermezzo: Tuples\n",
    "\n",
    "Tuples are basically immutable lists. They utilize parentheses instead of square brackets:"
   ]
  },
  {
   "cell_type": "code",
   "execution_count": null,
   "metadata": {},
   "outputs": [],
   "source": [
    "t = (1, \"test\", 56)\n",
    "t"
   ]
  },
  {
   "cell_type": "markdown",
   "metadata": {},
   "source": [
    "Most list functions also work on tuples:"
   ]
  },
  {
   "cell_type": "code",
   "execution_count": null,
   "metadata": {},
   "outputs": [],
   "source": [
    "len(t)"
   ]
  },
  {
   "cell_type": "markdown",
   "metadata": {},
   "source": [
    "But keep in mind that tuples cannot be modified:"
   ]
  },
  {
   "cell_type": "code",
   "execution_count": null,
   "metadata": {},
   "outputs": [],
   "source": [
    "#t[0] = 5"
   ]
  },
  {
   "cell_type": "markdown",
   "metadata": {
    "id": "K6iNqlsmAhsC"
   },
   "source": [
    "#### 3.3 Data Container \"Dictionary\""
   ]
  },
  {
   "cell_type": "markdown",
   "metadata": {
    "id": "ZnJh3nevAhsD"
   },
   "source": [
    "In Python, dictionaries are used to store associations similar to actual dictionaries that, e.g., translate between two different languages.\n",
    "\n",
    "A dictionary is a collection of basic Python data types in which \"elements\" consist of (key, value) pairs that are unordered, mutable and indexed. Every key is only allowed once in the dictionary (since it is indexed), but the same value can occur many times. Dictionaries are written with curly brackets and  can be initialized like this:"
   ]
  },
  {
   "cell_type": "code",
   "execution_count": null,
   "metadata": {
    "id": "JhAXqzKDAhsD"
   },
   "outputs": [],
   "source": [
    "d = {'cat': 'Katze', 'flower': 'Blume', 'house': 'Haus', 'owl': 'Eule'}\n",
    "d"
   ]
  },
  {
   "cell_type": "markdown",
   "metadata": {
    "id": "iqSkgP0lAhsD"
   },
   "source": [
    "Retrieve and print the value corresponding to the key \"cat\":"
   ]
  },
  {
   "cell_type": "code",
   "execution_count": null,
   "metadata": {
    "id": "JN8QQJPmAhsD"
   },
   "outputs": [],
   "source": [
    "print(d['cat'])"
   ]
  },
  {
   "cell_type": "markdown",
   "metadata": {
    "id": "Hh6TbSHLAhsD"
   },
   "source": [
    "We can add new dictionary elements:"
   ]
  },
  {
   "cell_type": "code",
   "execution_count": null,
   "metadata": {
    "id": "hKa7SyfuAhsD"
   },
   "outputs": [],
   "source": [
    "d['pumpkin'] = 'Kürbis'\n",
    "d"
   ]
  },
  {
   "cell_type": "markdown",
   "metadata": {},
   "source": [
    "And we can modify existing dictionary element by overwriting them (since every key is only allowed once):"
   ]
  },
  {
   "cell_type": "code",
   "execution_count": null,
   "metadata": {},
   "outputs": [],
   "source": [
    "d['owl'] = 'Kauz'\n",
    "d"
   ]
  },
  {
   "cell_type": "markdown",
   "metadata": {
    "id": "883vtdk9AhsF"
   },
   "source": [
    "Retrieve and print all dictionary keys:"
   ]
  },
  {
   "cell_type": "code",
   "execution_count": null,
   "metadata": {
    "id": "uyKhmfZzAhsF"
   },
   "outputs": [],
   "source": [
    "d.keys()"
   ]
  },
  {
   "cell_type": "markdown",
   "metadata": {
    "id": "5RbM8OWkAhsF"
   },
   "source": [
    "Retrieve and print all dictionary values:"
   ]
  },
  {
   "cell_type": "code",
   "execution_count": null,
   "metadata": {
    "id": "1sKK_VQ-AhsF"
   },
   "outputs": [],
   "source": [
    "d.values()"
   ]
  },
  {
   "cell_type": "markdown",
   "metadata": {},
   "source": [
    "You can also retrieve a list of key-value pairs in the form of tuples:"
   ]
  },
  {
   "cell_type": "code",
   "execution_count": null,
   "metadata": {},
   "outputs": [],
   "source": [
    "d.items()"
   ]
  },
  {
   "cell_type": "markdown",
   "metadata": {
    "id": "TspmIAVwAhsG"
   },
   "source": [
    "Try to retrieve a dictionary value that is not contained in the dictionary (this will result in an error): "
   ]
  },
  {
   "cell_type": "code",
   "execution_count": null,
   "metadata": {
    "id": "dBTFvm1lAhsG"
   },
   "outputs": [],
   "source": [
    "#print(d['ghost'])                  # KeyError: 'ghost' not a key of the dictionary"
   ]
  },
  {
   "cell_type": "markdown",
   "metadata": {},
   "source": [
    "#### 3.4 Intermezzo: Sets\n",
    "\n",
    "Sets are basically dictionaries that only consist of keys without values. Like sets in the mathematical meaning, only unique elements are considered. Consider the following example:"
   ]
  },
  {
   "cell_type": "code",
   "execution_count": null,
   "metadata": {},
   "outputs": [],
   "source": [
    "s1 = {1, 2, 5, 9, 34}\n",
    "s2 = {1, 1, 3, 6, 33}\n",
    "s2"
   ]
  },
  {
   "cell_type": "markdown",
   "metadata": {},
   "source": [
    "Set `s2` only has a single element `1`, since only unique elements are considered. \n",
    "\n",
    "Sets are useful for comparisons. For instance, you can derive the intersection of two sets"
   ]
  },
  {
   "cell_type": "code",
   "execution_count": null,
   "metadata": {},
   "outputs": [],
   "source": [
    "s1.intersection(s2)"
   ]
  },
  {
   "cell_type": "markdown",
   "metadata": {},
   "source": [
    "and the union of two sets:"
   ]
  },
  {
   "cell_type": "code",
   "execution_count": null,
   "metadata": {},
   "outputs": [],
   "source": [
    "s1.union(s2)"
   ]
  },
  {
   "cell_type": "markdown",
   "metadata": {
    "id": "m5QNnbHKAhsJ"
   },
   "source": [
    "## 4. Fundamental Programming Structures"
   ]
  },
  {
   "cell_type": "markdown",
   "metadata": {
    "id": "flEH90sOAhsJ"
   },
   "source": [
    "As part of this lab, we want to have a closer look at three basic programming structures of Python:\n",
    "\n",
    "> * **For-Loops** - used to iterate over a sequence of program statements.\n",
    "> * **Decision Structures** - used to anticipate conditions occurring while the execution of a program."
   ]
  },
  {
   "cell_type": "markdown",
   "metadata": {
    "id": "gUyNrvBFAhsJ"
   },
   "source": [
    "#### 4.1 Python Loop Structures"
   ]
  },
  {
   "cell_type": "markdown",
   "metadata": {
    "id": "3WOZuHVTAhsJ"
   },
   "source": [
    "To keep a program doing some useful work we need some kind of repetition, looping back over the same block of code again and again. Below we will describe the different kinds of loops available in Python."
   ]
  },
  {
   "cell_type": "markdown",
   "metadata": {
    "id": "V10EPxYzAhsJ"
   },
   "source": [
    "The for loop that is used to iterate over elements of a sequence, it is often used when you have a piece of code which you want to repeat a specifc \"n\" number of times. The nature of a for-loop in Python is very straightforward  **\"for all elements in a list, do this\".**\n",
    "\n",
    "Let's say that you have a list; you can then loop over the list elements using the `for` keyword like this:\n"
   ]
  },
  {
   "cell_type": "code",
   "execution_count": null,
   "metadata": {
    "id": "v_qHreC8AhsK"
   },
   "outputs": [],
   "source": [
    "# list initialization\n",
    "l = ['cat', 'night', 'pumpkin']\n",
    "\n",
    "# loop initialization and run\n",
    "for s in l: \n",
    "    print(s)"
   ]
  },
  {
   "cell_type": "markdown",
   "metadata": {
    "id": "PPWf9Ah_AhsK"
   },
   "source": [
    "**Important Python Rule No. 2: Python relies on the concept of indentation, using whitespace (or tabs), to define the scope in the code.** This means that all code lines that use the same level of indentation belong to the same for-loop, function, etc.\n",
    "\n",
    "Other programming languages such as Java or C# often use brackets or curly-brackets for this purpose. Consider the following examples:"
   ]
  },
  {
   "cell_type": "code",
   "execution_count": null,
   "metadata": {},
   "outputs": [],
   "source": [
    "for s in l:\n",
    "    print(s)\n",
    "    print(\"I'm here\")"
   ]
  },
  {
   "cell_type": "code",
   "execution_count": null,
   "metadata": {},
   "outputs": [],
   "source": [
    "for s in l:\n",
    "    print(s)\n",
    "print(\"I'm here\")"
   ]
  },
  {
   "cell_type": "markdown",
   "metadata": {},
   "source": [
    "Only in the former example `I'm here` is printed in every iteration since its level of indentation indicates that it is part of the for-loop. In the latter case, the second print function does not use indentation, so it is not considered part of the for-loop and only printed after the loop has finished. "
   ]
  },
  {
   "cell_type": "markdown",
   "metadata": {
    "id": "ytPqDh05AhsK"
   },
   "source": [
    "Let's have a look at another example of a for-loop:"
   ]
  },
  {
   "cell_type": "code",
   "execution_count": null,
   "metadata": {
    "id": "s1o5bqddAhsK"
   },
   "outputs": [],
   "source": [
    "# init a list of numbers\n",
    "numbers = [1, 10, 20, 30, 40, 50]\n",
    "\n",
    "# init the result\n",
    "result = 0\n",
    "\n",
    "# loop initialization and run\n",
    "for number in numbers:\n",
    "    result = result + number\n",
    "    # result += number\n",
    "\n",
    "# print the result\n",
    "print(result)"
   ]
  },
  {
   "cell_type": "markdown",
   "metadata": {
    "id": "5_GiXfL4AhsK"
   },
   "source": [
    "To loop over a list of numbers, we can use Python's `range` function. The `range(lower_bound, upper_bound, step_size)` function generates a sequence of numbers, starting from the `lower_bound` to the `upper_bound`. The `lower_bound` and `step_size` parameters are optional. By default the lower bound is set to zero, the incremental step is set to one."
   ]
  },
  {
   "cell_type": "code",
   "execution_count": null,
   "metadata": {
    "id": "e22EoVZVAhsK"
   },
   "outputs": [],
   "source": [
    "# loop over range elements\n",
    "for i in range(1, 10):\n",
    "    \n",
    "    # print current value of i\n",
    "    print(i)"
   ]
  },
  {
   "cell_type": "markdown",
   "metadata": {
    "id": "dzjP1eNhAhsK"
   },
   "source": [
    "To break out from a loop, you can use the keyword `break`. Let's have a look at the following example: "
   ]
  },
  {
   "cell_type": "code",
   "execution_count": null,
   "metadata": {
    "id": "osyVk7JdAhsK"
   },
   "outputs": [],
   "source": [
    "# loop over range elements\n",
    "for i in range(1, 10000000000):\n",
    "    \n",
    "    # case: current value of i equals 3?\n",
    "    if i == 3:\n",
    "        \n",
    "        # break: stop the loop\n",
    "        break \n",
    "        \n",
    "    # print current value of i\n",
    "    print(i)"
   ]
  },
  {
   "cell_type": "markdown",
   "metadata": {
    "id": "fZK4kLcOAhsK"
   },
   "source": [
    "In contrast, the `continue` keyword is used to tell Python to skip the rest of the statements in the current loop block and to continue to the next iteration of the loop."
   ]
  },
  {
   "cell_type": "code",
   "execution_count": null,
   "metadata": {
    "id": "_0DwsWTpAhsK"
   },
   "outputs": [],
   "source": [
    "# loop over range elements\n",
    "for i in range(1, 10):\n",
    "    \n",
    "    # case: current value of i equals 3?\n",
    "    if i == 3:\n",
    "        \n",
    "        # continue: jump to next loop iteration \n",
    "        continue\n",
    "    \n",
    "    # print current value if i\n",
    "    print(i)"
   ]
  },
  {
   "cell_type": "markdown",
   "metadata": {
    "id": "5h6XTPwBAhsK"
   },
   "source": [
    "If you want access to the index of each element within the body of a loop, use the built-in enumerate function:"
   ]
  },
  {
   "cell_type": "code",
   "execution_count": null,
   "metadata": {
    "id": "tSdtPBzvAhsK"
   },
   "outputs": [],
   "source": [
    "l = ['cat', 'night', 'pumpkin']\n",
    "for idx, element in enumerate(l):\n",
    "    print('index {}: {}'.format(idx, element))"
   ]
  },
  {
   "cell_type": "markdown",
   "metadata": {
    "id": "nvq_-_r_AhsK"
   },
   "source": [
    "When programming frequently, we want to transform one type of data into another. As a simple example, consider the following code that computes square numbers:"
   ]
  },
  {
   "cell_type": "code",
   "execution_count": null,
   "metadata": {
    "id": "txIvusQJAhsK"
   },
   "outputs": [],
   "source": [
    "nums = [0, 1, 2, 3, 4]\n",
    "squares = []\n",
    "for x in nums:\n",
    "    squares.append(x ** 2)\n",
    "print(squares)"
   ]
  },
  {
   "cell_type": "markdown",
   "metadata": {
    "id": "LqpwiQDTAhsK"
   },
   "source": [
    "You can make this code simpler using a list comprehension:"
   ]
  },
  {
   "cell_type": "code",
   "execution_count": null,
   "metadata": {
    "id": "EE2ROHIwAhsK"
   },
   "outputs": [],
   "source": [
    "nums = [0, 1, 2, 3, 4]\n",
    "squares = [x ** 2 for x in nums]\n",
    "print(squares)"
   ]
  },
  {
   "cell_type": "markdown",
   "metadata": {
    "id": "l2-GJp80AhsK"
   },
   "source": [
    "List comprehensions can also contain conditions:"
   ]
  },
  {
   "cell_type": "code",
   "execution_count": null,
   "metadata": {
    "id": "iJhzvL-pAhsK"
   },
   "outputs": [],
   "source": [
    "nums = [0, 1, 2, 3, 4]\n",
    "even_squares = [x ** 2 for x in nums if x % 2 == 0]\n",
    "print(even_squares)"
   ]
  },
  {
   "cell_type": "markdown",
   "metadata": {
    "id": "W-vVWgnqAhsK"
   },
   "source": [
    "Similarly, it is easy to iterate over the keys in a dictionary:"
   ]
  },
  {
   "cell_type": "code",
   "execution_count": null,
   "metadata": {
    "id": "HQiccTt-AhsK"
   },
   "outputs": [],
   "source": [
    "d = {'pumpkin': 0, 'cat': 4, 'spider': 8}\n",
    "for animal in d:\n",
    "    legs = d[animal]\n",
    "    print('A {} has {} legs'.format(animal, legs))"
   ]
  },
  {
   "cell_type": "markdown",
   "metadata": {
    "id": "vHyUC72lAhsL"
   },
   "source": [
    "If you want access to keys and their corresponding values, use the items method:"
   ]
  },
  {
   "cell_type": "code",
   "execution_count": null,
   "metadata": {
    "id": "CEtg1tYiAhsL"
   },
   "outputs": [],
   "source": [
    "d = {'pumpkin': 2, 'cat': 4, 'spider': 8}\n",
    "for animal, legs in d.items():\n",
    "    print('A {} has {} legs'.format(animal, legs))"
   ]
  },
  {
   "cell_type": "markdown",
   "metadata": {
    "id": "DF2HSMQMAhsL"
   },
   "source": [
    "#### 4.2 Python Decision Structures"
   ]
  },
  {
   "cell_type": "markdown",
   "metadata": {
    "id": "vVBu5oEmAhsL"
   },
   "source": [
    "Decision structures evaluate multiple expressions which produce **True** or **False** as an outcome. When solving a data science task, you often need to determine which action to take and which statements to execute if an outcome is **True** or **False** otherwise."
   ]
  },
  {
   "cell_type": "markdown",
   "metadata": {
    "id": "r4BKUz_FAhsL"
   },
   "source": [
    "Let's briefly recap Python's use of logical or mathematical conditions:"
   ]
  },
  {
   "cell_type": "code",
   "execution_count": null,
   "metadata": {
    "id": "yQQ4qrWQAhsL"
   },
   "outputs": [],
   "source": [
    "# init sample variables\n",
    "a = 4\n",
    "b = 7"
   ]
  },
  {
   "cell_type": "code",
   "execution_count": null,
   "metadata": {
    "id": "yyPYegw3AhsL"
   },
   "outputs": [],
   "source": [
    "print(a == b)  # equals\n",
    "print(a != b)  # not equals\n",
    "print(a < b)   # less than\n",
    "print(a <= b)  # less than or equal to \n",
    "print(a > b)   # greater than\n",
    "print(a >= b)  # greater than or equal to"
   ]
  },
  {
   "cell_type": "markdown",
   "metadata": {
    "id": "RNVaRHFoAhsL"
   },
   "source": [
    "The mathematical conditions outlined above can be used in several ways, most commonly in if-statements. An if-statement is written by using the `if` keyword. Let's have a look at an example:"
   ]
  },
  {
   "cell_type": "code",
   "execution_count": null,
   "metadata": {
    "id": "-7fawuboAhsL"
   },
   "outputs": [],
   "source": [
    "# init sample variables\n",
    "a = 4\n",
    "b = 7\n",
    "\n",
    "# test condition\n",
    "if b > a:\n",
    "    print(\"b is greater than a\")"
   ]
  },
  {
   "cell_type": "markdown",
   "metadata": {
    "id": "L8lfHpzqAhsL"
   },
   "source": [
    "In the example above we used two variables, `a` and `b`, which are used as part of the if-statement to test whether `b` is greater than `a`. As `a` is 4, and `b` is 7, we know that 7 is greater than 4, and so we print that `\"b is greater than a\"`. Note how indentation is used here to indicate which code lines have to be run if the condition is True. "
   ]
  },
  {
   "cell_type": "markdown",
   "metadata": {
    "id": "vf_1M6FsAhsL"
   },
   "source": [
    "We can easily enhance the if-statement above by adding additional conditions using the `elif` keyword. The `elif` keyword is pythons way of saying \"if the previous conditions were not true, then try this condition\":"
   ]
  },
  {
   "cell_type": "code",
   "execution_count": null,
   "metadata": {
    "id": "kM2KSPiiAhsL"
   },
   "outputs": [],
   "source": [
    "a = 4\n",
    "b = 4\n",
    "\n",
    "# test condition 1\n",
    "if b > a:\n",
    "  print(\"b is greater than a\")\n",
    "\n",
    "# test condition 2\n",
    "elif a == b:\n",
    "  print(\"a and b are equal\")\n",
    "\n",
    "elif a != b:\n",
    "    print(\"test check and so on... \")"
   ]
  },
  {
   "cell_type": "markdown",
   "metadata": {
    "id": "Iu4p06BPAhsL"
   },
   "source": [
    "Finally, we can use the `else` keyword to catch any case which isn't found by the preceding conditions:"
   ]
  },
  {
   "cell_type": "code",
   "execution_count": null,
   "metadata": {
    "id": "0ZidOfM8AhsL"
   },
   "outputs": [],
   "source": [
    "a = 8\n",
    "b = 4\n",
    "\n",
    "# test condition 1\n",
    "if b > a:\n",
    "  print(\"b is greater than a\")\n",
    "\n",
    "# test condition 2\n",
    "elif a == b:\n",
    "  print(\"a and b are equal\")\n",
    "\n",
    "# all other cases\n",
    "else:\n",
    "  print(\"a is greater than b\")"
   ]
  },
  {
   "cell_type": "markdown",
   "metadata": {
    "id": "7llay0hQAhsM"
   },
   "source": [
    "In the example above the value assigned to a variable `a` is greater than the value assigned to `b`, so the first `if` condition is not true. Also, the `elif` condition is not true, so we ultimately go to the `else` condition and print that \"a is greater than b\"."
   ]
  },
  {
   "cell_type": "markdown",
   "metadata": {
    "id": "IwVBCT7TAhsM"
   },
   "source": [
    "## 5. Python Functions "
   ]
  },
  {
   "cell_type": "markdown",
   "metadata": {
    "id": "5USltVEXAhsM"
   },
   "source": [
    "A function is a block of organized, reusable code that is used to perform a single, related action. Functions provide better modularity for your application and allow for a high degree of reusable code. As you already saw, Python provides you with many built-in functions such as `print()`, etc. but you can also create your functions. These functions are called **user-defined functions**.\n",
    "\n",
    "A function is a block of code which only runs when it is called. You can pass data, known as arguments or parameters, into a function. A function can return data as a result. Python functions are defined using the `def` keyword.\n",
    "\n",
    "Let's recycle the code comparing two numbers from the previous section and put it into a function:"
   ]
  },
  {
   "cell_type": "code",
   "execution_count": null,
   "metadata": {},
   "outputs": [],
   "source": [
    "def compare(a, b):\n",
    "    if b > a:\n",
    "        print(\"b is greater than a\")\n",
    "    elif a == b:\n",
    "        print(\"a and b are equal\")\n",
    "    else:\n",
    "        print(\"a is greater than b\")"
   ]
  },
  {
   "cell_type": "markdown",
   "metadata": {},
   "source": [
    "First, notice the use of indentation here: all code lines use indentation since they are part of the function definition. Those lines that are part of the if-structure use additional indentation. \n",
    "\n",
    "Let's evaluate this function:"
   ]
  },
  {
   "cell_type": "code",
   "execution_count": null,
   "metadata": {},
   "outputs": [],
   "source": [
    "compare(1, 2)"
   ]
  },
  {
   "cell_type": "code",
   "execution_count": null,
   "metadata": {},
   "outputs": [],
   "source": [
    "compare(100, 2)"
   ]
  },
  {
   "cell_type": "markdown",
   "metadata": {},
   "source": [
    "This does the trick, but the more \"pythonic\" way would be not to print the result on the screen, but to return it to the user:"
   ]
  },
  {
   "cell_type": "code",
   "execution_count": null,
   "metadata": {},
   "outputs": [],
   "source": [
    "def which_number_is_greater(a, b):\n",
    "    if a > b:\n",
    "        return a\n",
    "    elif b > a:\n",
    "        return b\n",
    "    else:\n",
    "        return None"
   ]
  },
  {
   "cell_type": "code",
   "execution_count": null,
   "metadata": {},
   "outputs": [],
   "source": [
    "which_number_is_greater(100, 99)"
   ]
  },
  {
   "cell_type": "markdown",
   "metadata": {},
   "source": [
    "Note that the function call gets replaced with the result, which can be used right away in mathematical expressions:"
   ]
  },
  {
   "cell_type": "code",
   "execution_count": null,
   "metadata": {},
   "outputs": [],
   "source": [
    "which_number_is_greater(100, 99) + 1"
   ]
  },
  {
   "cell_type": "markdown",
   "metadata": {},
   "source": [
    "Finally, there are two types of arguments: positional arguments that are identfied as per their position in the function call and keyword arguments that have to be addressed specifically and typically have default values:"
   ]
  },
  {
   "cell_type": "code",
   "execution_count": null,
   "metadata": {},
   "outputs": [],
   "source": [
    "def some_math(a, b, c=0, d=1):\n",
    "    return (a + 2*b + c) * d"
   ]
  },
  {
   "cell_type": "code",
   "execution_count": null,
   "metadata": {},
   "outputs": [],
   "source": [
    "some_math(1, 2)"
   ]
  },
  {
   "cell_type": "code",
   "execution_count": null,
   "metadata": {},
   "outputs": [],
   "source": [
    "some_math(1, 2, d=4, c=2)"
   ]
  },
  {
   "cell_type": "markdown",
   "metadata": {},
   "source": [
    "## 6. Importing Python Modules\n",
    "\n",
    "Python provides a huge list of \"built-in\" functionality, things that it can do out-of-the-box. However, for specific use cases - like training deep neural networks - it requires functionality from external modules that can be readily \"imported\" into your Python runtime environment.\n",
    "\n",
    "In our next lab we will learn about the Numpy module and its support for arrays and higher math. For now let's focus on how to import this module:"
   ]
  },
  {
   "cell_type": "code",
   "execution_count": null,
   "metadata": {},
   "outputs": [],
   "source": [
    "import numpy"
   ]
  },
  {
   "cell_type": "markdown",
   "metadata": {},
   "source": [
    "That's it. Now presume that we would like to use its `sqrt` function to calculate the square-root of 9:"
   ]
  },
  {
   "cell_type": "code",
   "execution_count": null,
   "metadata": {},
   "outputs": [],
   "source": [
    "numpy.sqrt(9)"
   ]
  },
  {
   "cell_type": "markdown",
   "metadata": {},
   "source": [
    "So, in order to use a function from Numpy, we have to specify that we would like to use the `sqrt` from Numpy by typing `numpy.sqrt`. This is necessary to resolve possible confusion with other functions that might carry the same name. \n",
    "\n",
    "Since typing `numpy.` everytime we want to use a Numpy function quickly becomes tedious, you can give the Numpy module a different name (`np` is the usual choice) so you have to type less:"
   ]
  },
  {
   "cell_type": "code",
   "execution_count": null,
   "metadata": {},
   "outputs": [],
   "source": [
    "import numpy as np\n",
    "\n",
    "np.sqrt(9)"
   ]
  },
  {
   "cell_type": "markdown",
   "metadata": {},
   "source": [
    "### Lab Summary:"
   ]
  },
  {
   "cell_type": "markdown",
   "metadata": {},
   "source": [
    "In this initial lab, a step by step introduction into some basic concepts of Python programming incl. data types, containers, functions, and modules are presented. The code and exercises presented in this lab may serve you as a starting point for more complex and tailored analytics. "
   ]
  },
  {
   "cell_type": "markdown",
   "metadata": {},
   "source": [
    "You may want to execute the content of your lab outside of the Jupyter notebook environment, e.g., on a compute node or a server. The cell below converts the lab notebook into a standalone and executable python script."
   ]
  },
  {
   "cell_type": "code",
   "execution_count": null,
   "metadata": {},
   "outputs": [],
   "source": [
    "!jupyter nbconvert --to script lab_102_notebook.ipynb"
   ]
  }
 ],
 "metadata": {
  "kernelspec": {
   "display_name": "Python 3",
   "language": "python",
   "name": "python3"
  },
  "language_info": {
   "codemirror_mode": {
    "name": "ipython",
    "version": 3
   },
   "file_extension": ".py",
   "mimetype": "text/x-python",
   "name": "python",
   "nbconvert_exporter": "python",
   "pygments_lexer": "ipython3",
   "version": "3.8.5"
  },
  "toc": {
   "base_numbering": 1,
   "nav_menu": {},
   "number_sections": false,
   "sideBar": true,
   "skip_h1_title": false,
   "title_cell": "Table of Contents",
   "title_sidebar": "Contents",
   "toc_cell": false,
   "toc_position": {},
   "toc_section_display": true,
   "toc_window_display": false
  }
 },
 "nbformat": 4,
 "nbformat_minor": 4
}