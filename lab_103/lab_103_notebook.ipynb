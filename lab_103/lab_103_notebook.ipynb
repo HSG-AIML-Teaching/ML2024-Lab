{
 "cells": [
  {
   "cell_type": "markdown",
   "metadata": {},
   "source": [
    "<img align=\"center\" style=\"max-width: 900px; height: auto\" src=\"./banner.png\">"
   ]
  },
  {
   "cell_type": "markdown",
   "metadata": {
    "id": "BHjoHwerTsyk"
   },
   "source": [
    "<img align=\"right\" style=\"max-width: 200px; height: auto\" src=\"./hsg_logo.png\">\n",
    "\n",
    "###  Lab 103 - NumPy, Pillow, and Matplotlib\n",
    "\n",
    "8,860,1.00 Machine Learning, Spring Term 2024, University of St.Gallen (HSG)"
   ]
  },
  {
   "cell_type": "markdown",
   "metadata": {
    "id": "Pq6BVJJ0Tsyn"
   },
   "source": [
    "In our previous lab we learned about **basic Python programming**. In this lab course, we will build on this new knowledge and introduce some modules, techniques, and concepts that we will need in the future for designing and training machine learning and deep learning models."
   ]
  },
  {
   "cell_type": "markdown",
   "metadata": {},
   "source": [
    "### Lab Objectives:"
   ]
  },
  {
   "cell_type": "markdown",
   "metadata": {},
   "source": [
    "After today's lab, you should be able to:\n",
    "    \n",
    "> 1. Know about the very basics functionality and usage of the **NumPy Library**.\n",
    "> 1. Understand the application of the **Pillow Library** to manipulate image data. \n",
    "> 3. Utilize the basic plotting capabilities of the **Matplotlib Library**."
   ]
  },
  {
   "cell_type": "markdown",
   "metadata": {
    "id": "aZczAChjTsyp"
   },
   "source": [
    "## 1. The NumPy Library\n",
    " \n",
    "[NumPy](https://docs.scipy.org/doc/numpy-1.14.0/reference/index.html) is the fundamental package for scientific computing with Python and supports you with numerically and computationally intensive problems. The core of Numpy forms the concept of arrays, which we will learn about next. Building on the concept of arrays, Numpy provides a wide range of mathematical functionality."
   ]
  },
  {
   "cell_type": "markdown",
   "metadata": {
    "id": "pqxGci2FAhsH"
   },
   "source": [
    "### 1.1 NumPy Arrays and Tensors\n",
    "\n",
    "Lists are useful, but rather memory intensive. If you want to process large amounts of data - like we do in machine learning applications - you want to use your limited memory more efficiently. \n",
    "Numpy arrays are here to help: they are lists on steroids. \n",
    "\n",
    "Creating an array is as easy as creating a list:"
   ]
  },
  {
   "cell_type": "code",
   "execution_count": null,
   "metadata": {
    "colab": {
     "base_uri": "https://localhost:8080/"
    },
    "id": "IJ1iSIO8AhsH",
    "outputId": "cd35dd10-de43-4324-e08a-34c2e4df0a47"
   },
   "outputs": [],
   "source": [
    "import numpy as np  # we have to import NumPy first\n",
    "\n",
    "l = [0, 1, 2]   # this is a list\n",
    "a = np.array(l) # this is an array\n",
    "a"
   ]
  },
  {
   "cell_type": "markdown",
   "metadata": {
    "id": "O0d93Ls2AhsH"
   },
   "source": [
    "You can create an array from a list, or you can use the NumPy equivalent of `range`:"
   ]
  },
  {
   "cell_type": "code",
   "execution_count": null,
   "metadata": {
    "colab": {
     "base_uri": "https://localhost:8080/"
    },
    "id": "Dkz8FR06AhsH",
    "outputId": "507c2991-dee8-40ea-abcd-9297784f9a54"
   },
   "outputs": [],
   "source": [
    "a = np.arange(0, 3, 1)\n",
    "a"
   ]
  },
  {
   "cell_type": "markdown",
   "metadata": {
    "id": "G9FcOOKGAhsH"
   },
   "source": [
    "The first big difference between lists and arrays is that all elements in an array **must** be of the same data type (list elements can have different data types, though). As a result, an array has a data type attribute:"
   ]
  },
  {
   "cell_type": "code",
   "execution_count": null,
   "metadata": {
    "colab": {
     "base_uri": "https://localhost:8080/"
    },
    "id": "Uw6WAJIzAhsH",
    "outputId": "0b752489-67f2-44fa-a13f-4a10bed70e00"
   },
   "outputs": [],
   "source": [
    "#type(a)\n",
    "a.dtype"
   ]
  },
  {
   "cell_type": "markdown",
   "metadata": {
    "id": "7vf75yPaAhsH"
   },
   "source": [
    "In this case, the data type is 64-bit integer, which is a derivate of the integer we already met as a basic data type. \n",
    "\n",
    "Arrays are able to perform element-wise operations:"
   ]
  },
  {
   "cell_type": "code",
   "execution_count": null,
   "metadata": {
    "colab": {
     "base_uri": "https://localhost:8080/"
    },
    "id": "ulI9A8soAhsH",
    "outputId": "e607c42b-eef8-48c3-b97f-a7c257710959"
   },
   "outputs": [],
   "source": [
    "print(a + 1)  # element-wise addition\n",
    "print(a - 4)  # element-wise subtraction\n",
    "print(a * 2)  # element-wise multiplication\n",
    "print(a ** 2)  # element-wise exponentiation\n",
    "#print(l+1)   # a list cannot do this"
   ]
  },
  {
   "cell_type": "markdown",
   "metadata": {
    "id": "4WOGCE3CAhsH"
   },
   "source": [
    "Some operations may require your array to adopt a different datatype. Python will do that for you:"
   ]
  },
  {
   "cell_type": "code",
   "execution_count": null,
   "metadata": {
    "colab": {
     "base_uri": "https://localhost:8080/"
    },
    "id": "vP4ckHy6AhsH",
    "outputId": "79fe49d2-cd8e-443e-f3c9-a4b0aaff7a60"
   },
   "outputs": [],
   "source": [
    "print(a/2)\n",
    "print((a/2).dtype)"
   ]
  },
  {
   "cell_type": "markdown",
   "metadata": {
    "id": "p3J3wHzJAhsH"
   },
   "source": [
    "Indexing and slicing work the exact same way as for lists:"
   ]
  },
  {
   "cell_type": "code",
   "execution_count": null,
   "metadata": {
    "colab": {
     "base_uri": "https://localhost:8080/"
    },
    "id": "6cCYLun0AhsH",
    "outputId": "12c8e88c-7c1b-4b9c-b32d-3dfadb0fa427"
   },
   "outputs": [],
   "source": [
    "print(a[0])\n",
    "print(a[:2])\n",
    "print(a[-1])\n",
    "print(a[::-1])  # reverse array by using a step size of -1"
   ]
  },
  {
   "cell_type": "markdown",
   "metadata": {
    "id": "3uUF0UYcAhsH"
   },
   "source": [
    "You can also use arithmetic operations involving two arrays:"
   ]
  },
  {
   "cell_type": "code",
   "execution_count": null,
   "metadata": {
    "colab": {
     "base_uri": "https://localhost:8080/"
    },
    "id": "9OTMghMSAhsH",
    "outputId": "ed0d631f-ef45-4c75-9a18-ec22d1ef6dd8"
   },
   "outputs": [],
   "source": [
    "#print(a + np.array([1, 2, 3]))\n",
    "print(l + [1, 2, 3])  # in the case of lists, this will concatenate the two lists"
   ]
  },
  {
   "cell_type": "markdown",
   "metadata": {
    "id": "oQIm0xvZAhsH"
   },
   "source": [
    "You can consider a one-dimensional array as a **vector**. But arrays are not limited to one dimension. You can create a two-dimensional array, which you can then consider as a **matrix**:"
   ]
  },
  {
   "cell_type": "code",
   "execution_count": null,
   "metadata": {
    "colab": {
     "base_uri": "https://localhost:8080/"
    },
    "id": "LDuzsPPyAhsI",
    "outputId": "dd3ad44a-8893-49b3-eb8a-a485d01e2aac"
   },
   "outputs": [],
   "source": [
    "m = np.array([[1, 2, 3], [4, 5, 6], [7, 8, 9]])\n",
    "m"
   ]
  },
  {
   "cell_type": "markdown",
   "metadata": {
    "id": "JxRXtUABAhsI"
   },
   "source": [
    "Everything we learned about arrays so far holds up for two-dimensional arrays:"
   ]
  },
  {
   "cell_type": "code",
   "execution_count": null,
   "metadata": {
    "colab": {
     "base_uri": "https://localhost:8080/"
    },
    "id": "yYh9JG9zAhsI",
    "outputId": "c9d3bd09-df5b-4a69-852f-f970ee0749a5"
   },
   "outputs": [],
   "source": [
    "print(m[0])       # the first element of m is a one-dimensional array\n",
    "print(m[:, 1])    # the first element of each row\n",
    "print(m + 1)      # element-wise addition\n",
    "print(m * a)      # multiply vector a with each row of matrix m "
   ]
  },
  {
   "cell_type": "markdown",
   "metadata": {
    "id": "mlYMRFJrAhsI"
   },
   "source": [
    "Please note the notation in line 2: `m[:, 0]`\n",
    "This might look weird to you, but it's easy to explain what happens here: in a two-dimensional array, you have one index for each dimension. In `[:, 0]`, `:` refers to the first dimension (the rows) and `0` refers to the second dimension (the columns). Thus, it retrieves the element in the first column for each row. If you have additional (n) dimensions, the same logic applies, which gives you a powerful tool to easily access data in your arrays."
   ]
  },
  {
   "cell_type": "markdown",
   "metadata": {
    "id": "Hhr2nu_9TszD"
   },
   "source": [
    "Since arrays can be multi-dimensional, you can easily check their shape in the different dimensions:"
   ]
  },
  {
   "cell_type": "code",
   "execution_count": null,
   "metadata": {
    "colab": {
     "base_uri": "https://localhost:8080/"
    },
    "id": "CGWq0DseTszD",
    "outputId": "9be7f148-b930-431e-fee7-83a1eb1726de"
   },
   "outputs": [],
   "source": [
    "m.shape"
   ]
  },
  {
   "cell_type": "markdown",
   "metadata": {
    "id": "Bg41yna_TszG"
   },
   "source": [
    "Arrays can be easily reshaped:"
   ]
  },
  {
   "cell_type": "code",
   "execution_count": null,
   "metadata": {
    "colab": {
     "base_uri": "https://localhost:8080/"
    },
    "id": "1MiZRVsYTszH",
    "outputId": "f6241a34-4743-48d9-8f95-64c024abdd24"
   },
   "outputs": [],
   "source": [
    "m.reshape(1, 9)"
   ]
  },
  {
   "cell_type": "markdown",
   "metadata": {
    "id": "RGRBNEM6TszI"
   },
   "source": [
    "For long arrays it can be a hassle to figure out the exact dimensions if you want to reshape an Array. Numpy will help you if know all but one of the dimensions that your resulting Array should be in. In that case, you can replace the missing dimension with `-1`. For instance, the previous command can be written as:"
   ]
  },
  {
   "cell_type": "code",
   "execution_count": null,
   "metadata": {
    "colab": {
     "base_uri": "https://localhost:8080/"
    },
    "id": "sVfSfibeTszJ",
    "outputId": "2e35b009-0e10-4913-a489-d44d4b5ad0d1"
   },
   "outputs": [],
   "source": [
    "m.reshape(1, -1)"
   ]
  },
  {
   "cell_type": "markdown",
   "metadata": {
    "id": "QiXZiYRCAhsI"
   },
   "source": [
    "Ok, that's all nice. But what is Numpy's other selling point? It is fast. Let me show you just how fast. \n",
    "Let's assume you have a long list and want to change every element in that list. This will take a while:"
   ]
  },
  {
   "cell_type": "code",
   "execution_count": null,
   "metadata": {
    "colab": {
     "base_uri": "https://localhost:8080/"
    },
    "id": "HaawbLRoAhsI",
    "outputId": "49f20557-5436-47b7-d0e4-a05c9eae29ad"
   },
   "outputs": [],
   "source": [
    "l = range(10000000)\n",
    "l2 = []\n",
    "for x in l:\n",
    "    l2.append(x+1)\n",
    "l2"
   ]
  },
  {
   "cell_type": "markdown",
   "metadata": {
    "id": "nZTu0qxrAhsI"
   },
   "source": [
    "If you try the same in NumPy, you can do it in fewer lines of code and with much faster runtime:"
   ]
  },
  {
   "cell_type": "code",
   "execution_count": null,
   "metadata": {
    "colab": {
     "base_uri": "https://localhost:8080/"
    },
    "id": "x35Vy_SiAhsI",
    "outputId": "2c0dcc33-13c5-4435-a1d0-a14bfafd211b"
   },
   "outputs": [],
   "source": [
    "a = np.arange(100000000)\n",
    "a+1"
   ]
  },
  {
   "cell_type": "markdown",
   "metadata": {
    "id": "OhLD8s64AhsI"
   },
   "source": [
    "NumPy is so much fast since it vectorizes computations: it applies the operation on each element of an array at the same time. This is possible since NumPy uses C implementations in the background. You, as a user, benefit from the speed of C and the simplicity of Python at the same time."
   ]
  },
  {
   "cell_type": "markdown",
   "metadata": {
    "id": "g-fp55mIAhsJ"
   },
   "source": [
    "Finally, in the next lab courses we will be dealing with tensors. A **tensor**, mathematically, is just an n-dimensional array. In terms of programming, we will be using the Python module `pytorch`, which implements tensors (NumPy arrays can be used as tensors, too, but we prefer to use pytorch tensors for a reason that we will explain later to you). The good thing for you is that pytorch tensors work exactly like NumPy arrays:"
   ]
  },
  {
   "cell_type": "code",
   "execution_count": null,
   "metadata": {
    "colab": {
     "base_uri": "https://localhost:8080/"
    },
    "id": "L5pzpjdEAhsJ",
    "outputId": "d2e6f4ab-2f0c-41ea-acbd-c774f5fc09ea"
   },
   "outputs": [],
   "source": [
    "import torch\n",
    "\n",
    "a = torch.tensor([1, 2, 3])\n",
    "\n",
    "print(a + 1)  # element-wise addition\n",
    "print(a * 2)  # element-wise multiplication\n",
    "print(a[2])   # indexing\n",
    "print(a[1:])  # slicing\n",
    "\n",
    "b = torch.tensor([[1, 2, 3], [4, 5, 6], [7, 8, 9]])\n",
    "print(b)"
   ]
  },
  {
   "cell_type": "markdown",
   "metadata": {
    "id": "9-MANoS8AhsN"
   },
   "source": [
    "## 2. The Pillow Library"
   ]
  },
  {
   "cell_type": "markdown",
   "metadata": {
    "id": "aZ3gvsTSAhsO"
   },
   "source": [
    "The **\"Python Imaging Library (Pillow)\"** by Alex Clark and contributors (abbreviated as PIL, in newer versions known as Pillow), is a free library for the Python programming language that adds support for opening, manipulating, and saving many different image file formats (https://pillow.readthedocs.io/en/stable/). Using the PIL library in combination with the Numpy library allows for a great deal image analysis and manipulation. \n",
    "\n",
    "To make an arbitrary image interpretable for a computer images are usually represented by 3D tensors as shown below:"
   ]
  },
  {
   "cell_type": "markdown",
   "metadata": {
    "id": "ZQIJnB6CAhsO"
   },
   "source": [
    "<img align=\"center\" style=\"max-width: 1000px; height: auto\" src=\"https://github.com/HSG-AIML/LabMLDL/blob/main/lab_02/python_image_processing.png?raw=1\">"
   ]
  },
  {
   "cell_type": "markdown",
   "metadata": {
    "id": "Vy5bTy_jAhsO"
   },
   "source": [
    "(Source: **\"Learning Perceptual Organization with Minimal Human Supervision\"**, Stella Yu, UC Berkeley, 2019.) "
   ]
  },
  {
   "cell_type": "markdown",
   "metadata": {
    "id": "oYxSbkx0AhsO"
   },
   "source": [
    "Pls. note, that prior to using PIL you need to install the Python Image package. A brief installation instruction can be obtained from: https://pillow.readthedocs.io/en/5.3.x/installation.html. The package can installed via the following command:"
   ]
  },
  {
   "cell_type": "code",
   "execution_count": null,
   "metadata": {
    "id": "5XB-6zG9AhsO"
   },
   "outputs": [],
   "source": [
    "!pip3 install pillow"
   ]
  },
  {
   "cell_type": "markdown",
   "metadata": {
    "id": "G1coyYU1AhsO"
   },
   "source": [
    "Upon successful installation we can now import the `PIL` and `Scikit-Image` libraries:"
   ]
  },
  {
   "cell_type": "code",
   "execution_count": null,
   "metadata": {
    "id": "IKSijcJDAhsO"
   },
   "outputs": [],
   "source": [
    "# use this statement to show plots inside your notebook\n",
    "%matplotlib inline\n",
    "\n",
    "# import the pil, numpy and the matplotlib libraries\n",
    "from PIL import Image\n",
    "import numpy as np\n",
    "import matplotlib.pyplot as plt\n",
    "\n",
    "# import the scikit image library\n",
    "from skimage import io"
   ]
  },
  {
   "cell_type": "markdown",
   "metadata": {
    "id": "FNaMWFsmAhsO"
   },
   "source": [
    "The `PIL` library supports a wide variety of image file formats. To read files from disk, use the image read `imread` function of the `Scikit-Image` library. You don’t have to know the file format to open a file. The library automatically determines the format based on the contents of the file."
   ]
  },
  {
   "cell_type": "markdown",
   "metadata": {
    "id": "zARahrsKAhsO"
   },
   "source": [
    "### 2.1. Image Loading and Plotting"
   ]
  },
  {
   "cell_type": "markdown",
   "metadata": {
    "id": "_di0sCBtAhsO"
   },
   "source": [
    "Let's open and plot the `halloween.jpg` image file:"
   ]
  },
  {
   "cell_type": "code",
   "execution_count": null,
   "metadata": {
    "colab": {
     "base_uri": "https://localhost:8080/",
     "height": 287
    },
    "id": "_xD2HhlvAhsO",
    "outputId": "97ae9b0a-1fd1-429b-d1d1-95849733460b"
   },
   "outputs": [],
   "source": [
    "# import the urllib library\n",
    "from urllib.request import urlopen\n",
    "\n",
    "# retrieve remote image file\n",
    "image = Image.open(urlopen(\"https://raw.githubusercontent.com/HSG-AIML-Teaching/ML2024-Lab/main/lab_103/halloween.jpg\"))\n",
    "\n",
    "# convert to numpy array\n",
    "image_array = np.asarray(image)\n",
    "\n",
    "# plot image\n",
    "plt.imshow(image, vmin=0, vmax=255)"
   ]
  },
  {
   "cell_type": "markdown",
   "metadata": {
    "id": "z17tzauAAhsO"
   },
   "source": [
    "Let's also have a look at the exact shape of the image:"
   ]
  },
  {
   "cell_type": "code",
   "execution_count": null,
   "metadata": {
    "colab": {
     "base_uri": "https://localhost:8080/"
    },
    "id": "DQ4cvULFAhsO",
    "outputId": "fa3f39a9-dad0-4048-f9e2-287a91bc207d"
   },
   "outputs": [],
   "source": [
    "h, w, c = image_array.shape\n",
    "\n",
    "print(h)   # prints the image height\n",
    "print(w)   # prints the image width\n",
    "print(c)   # prints the number of image color channels = 3 for red, green, blue (rgb)"
   ]
  },
  {
   "cell_type": "markdown",
   "metadata": {
    "id": "uMjnBcUNAhsO"
   },
   "source": [
    "### 2.2. Image Manipulation - Cropping"
   ]
  },
  {
   "cell_type": "markdown",
   "metadata": {
    "id": "ZhuWSecJAhsO"
   },
   "source": [
    "Use PIL to extract the upper pumpkin of the image:"
   ]
  },
  {
   "cell_type": "code",
   "execution_count": null,
   "metadata": {
    "colab": {
     "base_uri": "https://localhost:8080/",
     "height": 287
    },
    "id": "42gL3AE0AhsP",
    "outputId": "776e428c-76c6-437e-bdb9-423242e57b4c"
   },
   "outputs": [],
   "source": [
    "upper_pumpkin = image_array[20:250, 20:300, :]\n",
    "plt.imshow(upper_pumpkin, vmin=0, vmax=255)"
   ]
  },
  {
   "cell_type": "code",
   "execution_count": null,
   "metadata": {
    "colab": {
     "base_uri": "https://localhost:8080/"
    },
    "id": "Rdm-7LZKAhsP",
    "outputId": "a021b786-b0ec-45ba-efa3-cf683a105a4f"
   },
   "outputs": [],
   "source": [
    "upper_pumpkin.shape"
   ]
  },
  {
   "cell_type": "markdown",
   "metadata": {
    "id": "Kcd1pj1xAhsP"
   },
   "source": [
    "### 2.3. Image Manipulation - Channel Extraction"
   ]
  },
  {
   "cell_type": "markdown",
   "metadata": {
    "id": "jhVFu-8PAhsP"
   },
   "source": [
    "Let's extract the distinct (RGB) colour channels of the image:"
   ]
  },
  {
   "cell_type": "code",
   "execution_count": null,
   "metadata": {
    "colab": {
     "base_uri": "https://localhost:8080/",
     "height": 287
    },
    "id": "lml29ZPfAhsP",
    "outputId": "e45042f6-4782-4295-99db-72ac25819c83"
   },
   "outputs": [],
   "source": [
    "# extraction of the red colour channel\n",
    "red_channel =  upper_pumpkin[:,:,0]\n",
    "\n",
    "plt.imshow(red_channel)"
   ]
  },
  {
   "cell_type": "code",
   "execution_count": null,
   "metadata": {
    "colab": {
     "base_uri": "https://localhost:8080/",
     "height": 287
    },
    "id": "ysNFP2X9AhsP",
    "outputId": "30da0d38-67fa-4abb-fd3a-4dee31d3337b"
   },
   "outputs": [],
   "source": [
    "# extraction of the green colour channel\n",
    "green_channel =  upper_pumpkin[:,:,1]\n",
    "\n",
    "plt.imshow(green_channel)"
   ]
  },
  {
   "cell_type": "code",
   "execution_count": null,
   "metadata": {
    "colab": {
     "base_uri": "https://localhost:8080/",
     "height": 287
    },
    "id": "8nz1hgxQAhsP",
    "outputId": "7d7a7e49-4ce8-402f-be96-17b3bd268ad8"
   },
   "outputs": [],
   "source": [
    "# extraction of a blue colour channel\n",
    "blue_channel = upper_pumpkin[:,:,2]\n",
    "\n",
    "plt.imshow(blue_channel)"
   ]
  },
  {
   "cell_type": "markdown",
   "metadata": {
    "id": "NklOFig1AhsP"
   },
   "source": [
    "### 2.3. Image Manipulation - Greyscaling"
   ]
  },
  {
   "cell_type": "markdown",
   "metadata": {
    "id": "1_gLclj3AhsP"
   },
   "source": [
    "We can derive the standard deviation of the pixel values across all bands: this will indicate in which image areas there are the most significant differences between the three bands (spoiler: they all have bright eyers, nose, and mouth and the background is dark in all of the channels):"
   ]
  },
  {
   "cell_type": "code",
   "execution_count": null,
   "metadata": {
    "colab": {
     "base_uri": "https://localhost:8080/",
     "height": 269
    },
    "id": "xJS4IJodAhsP",
    "outputId": "7a8c79a7-5a3b-4ad0-f5d4-018e0b7b51ee"
   },
   "outputs": [],
   "source": [
    "gray = upper_pumpkin.std(axis=2)\n",
    "plot = plt.imshow(gray, cmap=plt.cm.gray, vmin=0, vmax=255)"
   ]
  },
  {
   "cell_type": "markdown",
   "metadata": {
    "id": "BXrHfkHjTszg"
   },
   "source": [
    "We can also subtract image channels from each other:"
   ]
  },
  {
   "cell_type": "code",
   "execution_count": null,
   "metadata": {
    "colab": {
     "base_uri": "https://localhost:8080/",
     "height": 269
    },
    "id": "lxAC57juTszg",
    "outputId": "d8e8ca93-754f-4ca9-ed14-e9c319f9d9b5"
   },
   "outputs": [],
   "source": [
    "diff = upper_pumpkin[:,:,1]-upper_pumpkin[:,:,2]  # green - blue\n",
    "plot = plt.imshow(diff, cmap=plt.cm.gray, vmin=0, vmax=255)"
   ]
  },
  {
   "cell_type": "markdown",
   "metadata": {
    "id": "M02dFot5AhsP"
   },
   "source": [
    "To learn more about PIL and its capabilities visit: https://pillow.readthedocs.io."
   ]
  },
  {
   "cell_type": "markdown",
   "metadata": {
    "id": "znKYrAIDTszh"
   },
   "source": [
    "## 3. The Matplotlib Library\n",
    "\n",
    "[matplotlib](https://matplotlib.org/) is the standard Python package for plotting data and images. We have already used its `imshow` function to display images (see above). The core task of matplotlib, however, is the plotting of data: line plots, scatter plots, bar plots, etc.\n",
    "In the following, we will present some example uses for matplotlib."
   ]
  },
  {
   "cell_type": "markdown",
   "metadata": {},
   "source": [
    "### 3.1. Line Plots\n",
    "\n",
    "The most simple plot - a line connecting three points: (0,0), (2, 1), and (5,2) where this notation means (x-coordinate, y-coordinate) -  can be set up as follows:"
   ]
  },
  {
   "cell_type": "code",
   "execution_count": null,
   "metadata": {},
   "outputs": [],
   "source": [
    "import matplotlib.pyplot as plt  # import matplotlib\n",
    "\n",
    "x = [0, 2, 5]  # list of x coordinates\n",
    "y = [0, 1, 2]  # list of y coordinates\n",
    "\n",
    "plt.plot(x, y)"
   ]
  },
  {
   "cell_type": "markdown",
   "metadata": {},
   "source": [
    "We can easily add axis labels and a title:"
   ]
  },
  {
   "cell_type": "code",
   "execution_count": null,
   "metadata": {},
   "outputs": [],
   "source": [
    "x = [0, 2, 5]\n",
    "y = [0, 1, 2]\n",
    "\n",
    "plt.plot(x, y)\n",
    "plt.xlabel('Time')\n",
    "plt.ylabel('Money')\n",
    "plt.title('Time is Money')"
   ]
  },
  {
   "cell_type": "markdown",
   "metadata": {},
   "source": [
    "We can also add a second line. In order to be able to distinguish the different data sets, matplotlib will choose a different line color. We can also add plot labels and a legend so we know which line refers to which data set:"
   ]
  },
  {
   "cell_type": "code",
   "execution_count": null,
   "metadata": {
    "colab": {
     "base_uri": "https://localhost:8080/",
     "height": 313
    },
    "id": "pSPVmR9xhDeN",
    "outputId": "770646ab-6513-4bba-c862-6d17582462ec"
   },
   "outputs": [],
   "source": [
    "x = [0, 2, 5]\n",
    "y = [0, 1, 2]\n",
    "y2 = [3, 1, 4]\n",
    "\n",
    "plt.plot(x, y, label='data set 1')\n",
    "plt.plot(x, y2, label='data set 2')\n",
    "plt.xlabel('Time')\n",
    "plt.ylabel('Money')\n",
    "plt.title('Time is Money')\n",
    "plt.legend()"
   ]
  },
  {
   "cell_type": "markdown",
   "metadata": {},
   "source": [
    "### 3.2. Scatter Plots\n",
    "\n",
    "Point clouds can be displayed with scatter plots. You can choose from a wide range of marker types and colors."
   ]
  },
  {
   "cell_type": "code",
   "execution_count": null,
   "metadata": {
    "colab": {
     "base_uri": "https://localhost:8080/",
     "height": 283
    },
    "id": "vKRrSxMOhDgh",
    "outputId": "bc049a73-bdb3-42f7-fc95-59c69c6b4c58"
   },
   "outputs": [],
   "source": [
    "plt.scatter(x, y, color='red', marker='s')  # marker='s': squares"
   ]
  },
  {
   "cell_type": "markdown",
   "metadata": {},
   "source": [
    "### 3.3. Function Plots\n",
    "\n",
    "Mathematical functions can be plotted, too. This is typically accomplished by evaluating a function over a range in $x$ to generate $y$ values. The resulting $x$ and $y$ values can then be plotted as before:"
   ]
  },
  {
   "cell_type": "code",
   "execution_count": null,
   "metadata": {
    "colab": {
     "base_uri": "https://localhost:8080/",
     "height": 283
    },
    "id": "HAPxz1CghDiu",
    "outputId": "49ec3274-941e-4eff-ab6c-de7164e21985"
   },
   "outputs": [],
   "source": [
    "import numpy as np\n",
    "\n",
    "x = np.arange(0, 7, 0.01)\n",
    "y = np.sin(x)\n",
    "\n",
    "plt.plot(x, y)"
   ]
  },
  {
   "cell_type": "markdown",
   "metadata": {},
   "source": [
    "### Lab Summary:"
   ]
  },
  {
   "cell_type": "markdown",
   "metadata": {},
   "source": [
    "In this initial lab, a step by step introduction into fundamentals libraries namely `NumPy`, `Pillow` and `Matplotlib` are presented. The code and exercises presented in this lab may serve you as a starting point for more complex and tailored analytics."
   ]
  },
  {
   "cell_type": "markdown",
   "metadata": {},
   "source": [
    "You may want to execute the content of your lab outside of the Jupyter notebook environment, e.g., on a compute node or a server. The cell below converts the lab notebook into a standalone and executable python script."
   ]
  },
  {
   "cell_type": "code",
   "execution_count": null,
   "metadata": {},
   "outputs": [],
   "source": [
    "!jupyter nbconvert --to script lab_103_notebook.ipynb"
   ]
  }
 ],
 "metadata": {
  "colab": {
   "name": "lab_02.ipynb",
   "provenance": []
  },
  "kernelspec": {
   "display_name": "Python 3",
   "language": "python",
   "name": "python3"
  },
  "language_info": {
   "codemirror_mode": {
    "name": "ipython",
    "version": 3
   },
   "file_extension": ".py",
   "mimetype": "text/x-python",
   "name": "python",
   "nbconvert_exporter": "python",
   "pygments_lexer": "ipython3",
   "version": "3.8.5"
  },
  "toc": {
   "base_numbering": 1,
   "nav_menu": {},
   "number_sections": false,
   "sideBar": true,
   "skip_h1_title": false,
   "title_cell": "Table of Contents",
   "title_sidebar": "Contents",
   "toc_cell": false,
   "toc_position": {},
   "toc_section_display": true,
   "toc_window_display": false
  }
 },
 "nbformat": 4,
 "nbformat_minor": 1
}