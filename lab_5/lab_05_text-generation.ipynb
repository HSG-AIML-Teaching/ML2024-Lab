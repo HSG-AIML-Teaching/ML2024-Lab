{
 "cells": [
  {
   "cell_type": "markdown",
   "metadata": {},
   "source": [
    "<img align='center' style='max-width: 1000px' src='figures/banner.png'>"
   ]
  },
  {
   "attachments": {},
   "cell_type": "markdown",
   "metadata": {},
   "source": [
    "<img align='right' style='max-width: 200px; height: auto' src='figures/hsg_logo.png'>\n",
    "\n",
    "##  Lab 05 - Recurrent Neural Networks - Text Generation\n",
    "\n",
    "Machine Learning, University of St. Gallen, Spring Term 2024"
   ]
  },
  {
   "attachments": {},
   "cell_type": "markdown",
   "metadata": {},
   "source": [
    "In this notebook, we will explore the power of recurrent neural networks (RNNs) for generating text. Specifically, we will train a character-level RNN using PyTorch on the Shakespeare's Sonnet dataset. We will implement the RNN from scratch (without using the RNN module from `torch.nn`) and train it in batches to handle variable-length sequences. After training, we will evaluate the model by generating random prompts. Then we will implement an LSTM-based model using the LSTM module from PyTorch to see how it can improve the quality of the output. Below you can see the illustration of the models we aim to implement:"
   ]
  },
  {
   "attachments": {},
   "cell_type": "markdown",
   "metadata": {},
   "source": [
    "<img align='center' style='max-width: 600px' src='animations/objective.gif'>"
   ]
  },
  {
   "attachments": {},
   "cell_type": "markdown",
   "metadata": {},
   "source": [
    "Lab Objectives:\n",
    "- Learn how to create a PyTorch dataset for sequence-based training of textual data.\n",
    "- Implement an RNN from scratch using PyTorch that predicts the next character given a context.\n",
    "- Generate random texts by prompting the model.\n",
    "- Improve upon the RNN model and implement an LSTM-based model. "
   ]
  },
  {
   "attachments": {},
   "cell_type": "markdown",
   "metadata": {},
   "source": [
    "\n",
    "We will see how the model can generate text that resembles Shakespeare's sonnets.\n"
   ]
  },
  {
   "attachments": {},
   "cell_type": "markdown",
   "metadata": {},
   "source": [
    "# 1. Dataset "
   ]
  },
  {
   "attachments": {},
   "cell_type": "markdown",
   "metadata": {},
   "source": [
    "The dataset we will be using for this notebook is the collection of 154 sonnets by William Shakespeare. The sonnets were published in 1609 and have since become some of the most famous and influential poems in English literature.\n",
    "\n",
    "You can download the dataset from the Project Gutenberg website which a repository of free ebooks that are in the public domain. The sonnets are available for free download and can be used for any purpose without restriction. However, it's worth noting that some adaptations of the sonnets or translations may be protected by copyright, so it's always important to double-check the legal status of any text you plan to use for your project.\n",
    "\n",
    "For more information, please refer to this link: https://www.gutenberg.org/ebooks/1041\n"
   ]
  },
  {
   "attachments": {},
   "cell_type": "markdown",
   "metadata": {},
   "source": [
    "The preprocessed version of the dataset can be downloaded from the link below:\n",
    "\n",
    "Download link: https://raw.githubusercontent.com/ccc-frankfurt/Practical_ML_SS21/master/week06/sonnets.txt"
   ]
  },
  {
   "attachments": {},
   "cell_type": "markdown",
   "metadata": {},
   "source": [
    "Before everything, let's import some libraries that we will use for data processing, training and evaluation:"
   ]
  },
  {
   "cell_type": "code",
   "execution_count": 1,
   "metadata": {},
   "outputs": [],
   "source": [
    "import torch\n",
    "import torch.nn as nn\n",
    "import torch.optim as optim\n",
    "import tqdm\n",
    "from torch.utils.data import Dataset, DataLoader\n",
    "import matplotlib.pyplot as plt\n",
    "import numpy as np\n"
   ]
  },
  {
   "cell_type": "markdown",
   "metadata": {},
   "source": [
    "### Loading the dataset in PyTorch"
   ]
  },
  {
   "attachments": {},
   "cell_type": "markdown",
   "metadata": {},
   "source": [
    "The first step is to understand how the data looks and how to prepare it for training. Since we cannot directly work with characters in neural networks, we need to map each character in the dataset to a unique identifier:"
   ]
  },
  {
   "attachments": {},
   "cell_type": "markdown",
   "metadata": {},
   "source": [
    "<img align='center' style='max-width: 800px' src='animations/char_mapping.gif'>"
   ]
  },
  {
   "attachments": {},
   "cell_type": "markdown",
   "metadata": {},
   "source": [
    "Since we want to train the model to predict the next character based on the seen context, the inputs and outputs for model traing are constructed by randomly selecting sub-strings from the dataset to construct each pair. The input to the model will be the substring itself and the target will the substring shifted to the left by one character: "
   ]
  },
  {
   "attachments": {},
   "cell_type": "markdown",
   "metadata": {},
   "source": [
    "<img align='center' style='max-width: 800px' src='figures/batch_example.png'>"
   ]
  },
  {
   "attachments": {},
   "cell_type": "markdown",
   "metadata": {},
   "source": [
    "To create a PyTorch dataset for our data, we need to define a class that inherits from the class `Dataset` in `torch.utils.data`. In the constructor of the class, we load the text data and prepare the mappings."
   ]
  },
  {
   "cell_type": "code",
   "execution_count": 2,
   "metadata": {},
   "outputs": [],
   "source": [
    "class SonnetDataset(Dataset):\n",
    "    def __init__(self, ds_path, seq_length):\n",
    "        # Read text file\n",
    "        with open(ds_path, 'r') as f:\n",
    "            text = f.read()\n",
    "\n",
    "        # Create set of all possible unique characters. Addtionally add the character `#`\n",
    "        # as an indicator of the end of the sentence. \n",
    "        self.chars = ['#'] + sorted(list(set(text)))\n",
    "\n",
    "        # Char-to-ID and ID-to-Char mappers\n",
    "        char_to_int = {c: i for i, c in enumerate(self.chars)}\n",
    "        int_to_char = {i: c for i, c in enumerate(self.chars)}\n",
    "\n",
    "        self.text = text\n",
    "        self.char_to_int = char_to_int\n",
    "        self.int_to_char = int_to_char\n",
    "        self.seq_length = seq_length\n",
    " \n",
    "    def __len__(self):\n",
    "        # Return the total number of setences that the dataset includes\n",
    "        return len(self.text) - self.seq_length\n",
    "        \n",
    "    def __getitem__(self, index):\n",
    "        # Return a random substring with its correponding target.\n",
    "        sequence = self.text[index:index + self.seq_length + 1]\n",
    "        target = self.text[index + 1:index + self.seq_length + 1] + '#'\n",
    "        \n",
    "        return torch.tensor([self.char_to_int[c] for c in sequence], dtype=torch.long), \n",
    "               torch.tensor([self.char_to_int[c] for c in target], dtype=torch.long)"
   ]
  },
  {
   "attachments": {},
   "cell_type": "markdown",
   "metadata": {},
   "source": [
    "Now, we create an instance of the dataset which will be used for training both models."
   ]
  },
  {
   "cell_type": "code",
   "execution_count": 3,
   "metadata": {},
   "outputs": [],
   "source": [
    "dataset = SonnetDataset(ds_path=\"./sonnet.txt\", seq_length=100)"
   ]
  },
  {
   "cell_type": "code",
   "execution_count": 4,
   "metadata": {},
   "outputs": [
    {
     "data": {
      "text/plain": [
       "(tensor([18, 53, 50, 48,  2, 41, 36, 44, 53, 40, 54, 55,  2, 38, 53, 40, 36, 55,\n",
       "         56, 53, 40, 54,  2, 58, 40,  2, 39, 40, 54, 44, 53, 40,  2, 44, 49, 38,\n",
       "         53, 40, 36, 54, 40,  7,  1, 31, 43, 36, 55,  2, 55, 43, 40, 53, 40, 37,\n",
       "         60,  2, 37, 40, 36, 56, 55, 60,  4, 54,  2, 53, 50, 54, 40,  2, 48, 44,\n",
       "         42, 43, 55,  2, 49, 40, 57, 40, 53,  2, 39, 44, 40,  7,  1, 14, 56, 55,\n",
       "          2, 36, 54,  2, 55, 43, 40,  2, 53, 44, 51]),\n",
       " tensor([53, 50, 48,  2, 41, 36, 44, 53, 40, 54, 55,  2, 38, 53, 40, 36, 55, 56,\n",
       "         53, 40, 54,  2, 58, 40,  2, 39, 40, 54, 44, 53, 40,  2, 44, 49, 38, 53,\n",
       "         40, 36, 54, 40,  7,  1, 31, 43, 36, 55,  2, 55, 43, 40, 53, 40, 37, 60,\n",
       "          2, 37, 40, 36, 56, 55, 60,  4, 54,  2, 53, 50, 54, 40,  2, 48, 44, 42,\n",
       "         43, 55,  2, 49, 40, 57, 40, 53,  2, 39, 44, 40,  7,  1, 14, 56, 55,  2,\n",
       "         36, 54,  2, 55, 43, 40,  2, 53, 44, 51,  0]))"
      ]
     },
     "execution_count": 4,
     "metadata": {},
     "output_type": "execute_result"
    }
   ],
   "source": [
    "dataset[0]"
   ]
  },
  {
   "attachments": {},
   "cell_type": "markdown",
   "metadata": {},
   "source": [
    "# 2. Vanilla RNNs"
   ]
  },
  {
   "attachments": {},
   "cell_type": "markdown",
   "metadata": {},
   "source": [
    "<img align='center' style='max-width: 800px' src='animations/rnn_generation.gif'>"
   ]
  },
  {
   "attachments": {},
   "cell_type": "markdown",
   "metadata": {},
   "source": [
    "### 2.1 RNN Cell"
   ]
  },
  {
   "attachments": {},
   "cell_type": "markdown",
   "metadata": {},
   "source": [
    "The core component of an RNN model is an RNN cell that requires two inputs. One input is the current character in the text and other input is the hidden state of the model. The hidden state is also known as the memory of the model that carries useful information along the text which enables prediction based on a given context. In the figure below, we can see that some mathematical operation is performed on the inputs to make prediction for the output at step t and update the hidden vector based on the current input:"
   ]
  },
  {
   "attachments": {},
   "cell_type": "markdown",
   "metadata": {},
   "source": [
    "<img align='center' style='max-width: 400px' src='figures/rnn_cell.png'>"
   ]
  },
  {
   "attachments": {},
   "cell_type": "markdown",
   "metadata": {},
   "source": [
    "Let's first define the RNN cell:"
   ]
  },
  {
   "cell_type": "code",
   "execution_count": 5,
   "metadata": {},
   "outputs": [],
   "source": [
    "# Define the RNN Cell\n",
    "class RNNCell(nn.Module):\n",
    "    def __init__(self, input_size, hidden_size):\n",
    "        super(RNNCell, self).__init__()\n",
    "        # Linear transformation for the input\n",
    "        self.input_hidden = nn.Linear(input_size, hidden_size)\n",
    "        # Linea transformation for the hidden state\n",
    "        self.hidden_hidden = nn.Linear(hidden_size, hidden_size)\n",
    "        # Activation and dropout\n",
    "        self.activation = nn.Tanh()\n",
    "        self.dropout = nn.Dropout(p=0.5)\n",
    "\n",
    "    def forward(self, x, hidden):\n",
    "        # Tranform input\n",
    "        x = self.input_hidden(x)\n",
    "        # Transform hidden state\n",
    "        hidden_t = self.hidden_hidden(hidden)\n",
    "        # Add the transformed hidden state to the transformed input to\n",
    "        # form the new hidden state\n",
    "        new_hidden = self.activation(x + hidden_t)\n",
    "        new_hidden = self.dropout(new_hidden)\n",
    "      \n",
    "        return new_hidden"
   ]
  },
  {
   "cell_type": "code",
   "execution_count": 6,
   "metadata": {},
   "outputs": [
    {
     "data": {
      "text/plain": [
       "torch.Size([5, 128])"
      ]
     },
     "execution_count": 6,
     "metadata": {},
     "output_type": "execute_result"
    }
   ],
   "source": [
    "rnn_cell = RNNCell(128, 128)\n",
    "\n",
    "x = torch.randn(5, 128)\n",
    "h = torch.randn(5, 128)\n",
    "\n",
    "rnn_cell(x, h).shape"
   ]
  },
  {
   "attachments": {},
   "cell_type": "markdown",
   "metadata": {},
   "source": [
    "### 2.2 RNN Model"
   ]
  },
  {
   "attachments": {},
   "cell_type": "markdown",
   "metadata": {},
   "source": [
    "One last point for the implementation of the RNN model is the conversion of text character IDs to vectors. We cannot directly feed integers to a neural network, therefore we have to common options for converting integers to vectors.\n",
    "\n",
    "1 - One-hot encoded vectors\n",
    "\n",
    "2 - Using embedding look-up tables\n",
    "\n",
    "For this tutorial, we go for the second option. To do so we use the `nn.Embedding` module from PyTorch that initializes a list of trainable tensors, one per character in our case. Every time we give it a list of character IDs, it selects the correponding tensors from the table and returns them. We finally then use those tensors as inputs to the RNN cell."
   ]
  },
  {
   "cell_type": "code",
   "execution_count": 7,
   "metadata": {},
   "outputs": [],
   "source": [
    "# Define the RNN model\n",
    "class SimpleRNN(nn.Module):\n",
    "    def __init__(self, vocab_size, hidden_size):\n",
    "        super(SimpleRNN, self).__init__()\n",
    "        self.hidden_size = hidden_size\n",
    "        # Character embedding\n",
    "        self.embedding = nn.Embedding(num_embeddings=vocab_size, embedding_dim=hidden_size)\n",
    "        # RNN cell\n",
    "        self.rnn_cell = RNNCell(hidden_size, hidden_size)\n",
    "        # Classification layer\n",
    "        self.fc = nn.Linear(hidden_size, vocab_size)\n",
    "\n",
    "    def forward(self, x, hidden):\n",
    "        # Convert input to vector embeddings using a lookup table\n",
    "        x_emb = self.embedding(x)\n",
    "        # Forward the input and hidden state to the RNN cell\n",
    "        new_hidden = self.rnn_cell(x_emb, hidden)\n",
    "        # Make prediction using the new hidden sate\n",
    "        output = self.fc(new_hidden)\n",
    "        \n",
    "        return output, new_hidden\n",
    "    \n",
    "    def init_hidden(self, batch_size):\n",
    "        return torch.zeros(batch_size, self.hidden_size)\n"
   ]
  },
  {
   "cell_type": "code",
   "execution_count": 8,
   "metadata": {},
   "outputs": [],
   "source": [
    "model = SimpleRNN(vocab_size=len(dataset.chars), hidden_size=128)\n"
   ]
  },
  {
   "attachments": {},
   "cell_type": "markdown",
   "metadata": {},
   "source": [
    "### 2.3 Text Generation"
   ]
  },
  {
   "attachments": {},
   "cell_type": "markdown",
   "metadata": {},
   "source": [
    "Before training the model, we want to test it with text generation to check how the generated texts look. We need to implement a function that takes as input the model, the character <-> char-ID convertors and the prompt."
   ]
  },
  {
   "cell_type": "code",
   "execution_count": 9,
   "metadata": {},
   "outputs": [],
   "source": [
    "# Generate random text\n",
    "def generate_text(model, char_to_int, int_to_char, prompt, device):\n",
    "    # Set model to eval mode\n",
    "    model.eval()\n",
    "\n",
    "    # Initialize the hidden state of the RNN cell with batch-size = 1\n",
    "    hidden = model.init_hidden(1)\n",
    "    if type(hidden) == tuple:\n",
    "        hidden = (hidden[0].squeeze(1).to(device), hidden[1].squeeze(0).to(device))\n",
    "    else:\n",
    "        hidden = hidden.to(device)\n",
    "    \n",
    "    # Convert the prompt characters to character IDs\n",
    "    input_sequence = torch.tensor([char_to_int[c] for c in prompt], dtype=torch.long).unsqueeze(0).to(device)\n",
    "    \n",
    "    # Store the generated text over time as a string\n",
    "    generated_text = prompt\n",
    "\n",
    "    # No gradient mode during inference\n",
    "    with torch.no_grad():\n",
    "        # First feed all prompt characters to the model to the the final output and hidden state\n",
    "        for i in range(len(input_sequence[0])):\n",
    "            output, hidden = model(input_sequence[0][i].unsqueeze(0), hidden)\n",
    "\n",
    "        next_input = torch.argmax(output, dim=1)\n",
    "\n",
    "        # Generate text until the model outputs character #\n",
    "        while True:\n",
    "            # At each step, predict the next character given the current input and \n",
    "            # the hidden state from previous step\n",
    "            output, hidden = model(next_input, hidden)\n",
    "            # Sample from the probability distribution produced by the model at step t\n",
    "            probabilities = nn.functional.softmax(output, dim=1)\n",
    "            predicted_char = torch.multinomial(probabilities[0], 1)\n",
    "\n",
    "            # !!!!! Another option would be greedy character selection\n",
    "            # predicted_char = torch.argmax(probabilities, dim=1)\n",
    "            \n",
    "            # Conver the character ID to string and add it to `generated_text`\n",
    "            if int_to_char[predicted_char[0].item()] == \"#\": \n",
    "                break\n",
    "            generated_text += int_to_char[predicted_char[0].item()]\n",
    "            next_input = predicted_char\n",
    "\n",
    "    return generated_text"
   ]
  },
  {
   "cell_type": "code",
   "execution_count": 10,
   "metadata": {},
   "outputs": [
    {
     "data": {
      "text/plain": [
       "'St. Gallen, where the jh'"
      ]
     },
     "execution_count": 10,
     "metadata": {},
     "output_type": "execute_result"
    }
   ],
   "source": [
    "prompt = \"St. Gallen, where the \"\n",
    "generate_text(model, dataset.char_to_int, dataset.int_to_char, prompt, device=torch.device(\"cpu\"))"
   ]
  },
  {
   "attachments": {},
   "cell_type": "markdown",
   "metadata": {},
   "source": [
    "### 2.4 Training"
   ]
  },
  {
   "attachments": {},
   "cell_type": "markdown",
   "metadata": {},
   "source": [
    "We saw that the randomly initialized model generates meaningless random text. Let's train the model on the Shakespeare's sonnets dataset. Since we need to train the model of sequence of inputs, the computational grpah of the model needs to be replicated over all steps of the character sequence generation process. At the end of the sentence, the losses from all steps are summed together and backpropagation is applied to compute the gradients. In this case we are doing `Backpropgation Through Time` (BPTT). In the animation below, we can see how the forward and backward propagation is performed for sequential data generation:"
   ]
  },
  {
   "attachments": {},
   "cell_type": "markdown",
   "metadata": {},
   "source": [
    "<img align='center' style='max-width: 900px' src='animations/rnn_training.gif'>"
   ]
  },
  {
   "attachments": {},
   "cell_type": "markdown",
   "metadata": {},
   "source": [
    "Similar to before, we need to define a function that train the model for a number of epochs. The only part that is different is how we feed the data to the model. One way to input sequential data is to iterate through the batch sequences step by step, forward the characters at step t and compute the loss for that step. After going throught eh sequence, we compute the average loss and backpropagate. PyTorch takes cares of the BPTT part :)"
   ]
  },
  {
   "cell_type": "code",
   "execution_count": 11,
   "metadata": {},
   "outputs": [],
   "source": [
    "def train(model, dataloader, criterion, optimizer, device):\n",
    "    model.train()\n",
    "    dataloader_progress = tqdm.tqdm(dataloader)\n",
    "    iter_losses = []\n",
    "    # Iterate over all dataset sentences\n",
    "    for i, (inputs, targets) in enumerate(dataloader_progress):\n",
    "        # Size of input and targetsa re B x L x D\n",
    "        # B -> batch size, L -> sequence length, D -> vocabulary size\n",
    "        inputs, targets = inputs.to(device), targets.to(device)\n",
    "        batch_size = inputs.shape[0]\n",
    "        len_sequence = inputs.shape[1]\n",
    "        # Initialize the hidden state with zeros before going through the sequence\n",
    "        hidden = model.init_hidden(batch_size).to(device)\n",
    "        optimizer.zero_grad()\n",
    "        loss = 0\n",
    "        # Make prediction for each character and compute the loss for each step\n",
    "        for t in range(len_sequence):\n",
    "            output, hidden = model(inputs[:, t], hidden)\n",
    "            loss += criterion(output, targets[:, t])\n",
    "        # Compute average loss over all steps\n",
    "        loss = loss / len_sequence\n",
    "        # Backpropagate and optimizer step\n",
    "        loss.backward()\n",
    "        optimizer.step()\n",
    "        dataloader_progress.set_description(f\"Loss: {loss.item():0.5f}\")\n",
    "        # Iteration losss\n",
    "        iter_losses.append(loss.item())\n",
    "\n",
    "    return np.mean(iter_losses)"
   ]
  },
  {
   "cell_type": "code",
   "execution_count": 12,
   "metadata": {},
   "outputs": [
    {
     "name": "stderr",
     "output_type": "stream",
     "text": [
      "Loss: 1.92919: 100%|██████████| 1468/1468 [01:21<00:00, 17.91it/s]\n"
     ]
    },
    {
     "name": "stdout",
     "output_type": "stream",
     "text": [
      "Epoch 1/3 completed\n"
     ]
    },
    {
     "name": "stderr",
     "output_type": "stream",
     "text": [
      "Loss: 1.92146: 100%|██████████| 1468/1468 [01:21<00:00, 18.00it/s]\n"
     ]
    },
    {
     "name": "stdout",
     "output_type": "stream",
     "text": [
      "Epoch 2/3 completed\n"
     ]
    },
    {
     "name": "stderr",
     "output_type": "stream",
     "text": [
      "Loss: 1.92324: 100%|██████████| 1468/1468 [01:24<00:00, 17.45it/s]"
     ]
    },
    {
     "name": "stdout",
     "output_type": "stream",
     "text": [
      "Epoch 3/3 completed\n"
     ]
    },
    {
     "name": "stderr",
     "output_type": "stream",
     "text": [
      "\n"
     ]
    }
   ],
   "source": [
    "device = torch.device(\"cpu\")\n",
    "\n",
    "# Hyperparameters\n",
    "hidden_size = 256\n",
    "seq_length = 100\n",
    "batch_size = 64 \n",
    "num_epochs = 3\n",
    "learning_rate = 0.001\n",
    "\n",
    "model = SimpleRNN(vocab_size=len(dataset.chars), hidden_size=hidden_size)\n",
    "model.to(device)\n",
    "model.train()\n",
    "\n",
    "# Create dataset and dataloader\n",
    "dataloader = DataLoader(dataset, batch_size=batch_size, shuffle=True, drop_last=True)\n",
    "\n",
    "# Define the loss function and optimizer\n",
    "criterion = nn.CrossEntropyLoss()\n",
    "optimizer = optim.Adam(model.parameters(), lr=learning_rate)\n",
    "\n",
    "# Train the model\n",
    "epoch_losses = []\n",
    "for epoch in range(num_epochs):\n",
    "    epoch_loss = train(model, dataloader, criterion, optimizer, device)\n",
    "    print(f'Epoch {epoch + 1}/{num_epochs} completed')\n",
    "    epoch_losses.append(epoch_loss)"
   ]
  },
  {
   "cell_type": "code",
   "execution_count": 18,
   "metadata": {},
   "outputs": [],
   "source": [
    "# torch.save(model, \"ckpt_rnn.pt\")"
   ]
  },
  {
   "cell_type": "code",
   "execution_count": 19,
   "metadata": {},
   "outputs": [
    {
     "data": {
      "image/png": "[encoded data removed]",
      "text/plain": [
       "<Figure size 640x480 with 1 Axes>"
      ]
     },
     "metadata": {},
     "output_type": "display_data"
    }
   ],
   "source": [
    "# Prepare plot\n",
    "fig = plt.figure()\n",
    "ax = fig.add_subplot(111)\n",
    "\n",
    "# Add grid\n",
    "ax.grid(linestyle='dotted')\n",
    "\n",
    "# Plot the training epochs vs. the epochs' classification error\n",
    "ax.plot(np.array(range(1, len(epoch_losses)+1)), epoch_losses, label='epoch loss (blue)')\n",
    "\n",
    "# Plot details\n",
    "ax.set_xlabel(\"[training epoch $e_i$]\", fontsize=10)\n",
    "ax.set_ylabel(\"[Classification Error $\\mathcal{L}^{NLL}$]\", fontsize=10)\n",
    "plt.legend(loc=\"upper right\", numpoints=1, fancybox=True)\n",
    "plt.title('RNN Train Loss', fontsize=10);"
   ]
  },
  {
   "attachments": {},
   "cell_type": "markdown",
   "metadata": {},
   "source": [
    "### 2.5 Testing"
   ]
  },
  {
   "attachments": {},
   "cell_type": "markdown",
   "metadata": {},
   "source": [
    "Finally, it's time for testing the model. "
   ]
  },
  {
   "cell_type": "code",
   "execution_count": 30,
   "metadata": {},
   "outputs": [
    {
     "data": {
      "text/plain": [
       "\"St. Gallen, where the oth callo do ruld much fair sulfy vorge of summing as and be dosh nie make bich I learning sonime do now,?\\nOundisure's in which in yald\\nWhose efore reautesprans shake cact n, ine how a chas in the pith, in heart, reevenst like eiter my phaurn these reive where \""
      ]
     },
     "execution_count": 30,
     "metadata": {},
     "output_type": "execute_result"
    }
   ],
   "source": [
    "prompt = \"St. Gallen, where the \"\n",
    "model.to(\"cpu\")\n",
    "generate_text(model, dataset.char_to_int, dataset.int_to_char, prompt, device=torch.device(\"cpu\"))"
   ]
  },
  {
   "attachments": {},
   "cell_type": "markdown",
   "metadata": {},
   "source": [
    "# 3. LSTMs"
   ]
  },
  {
   "attachments": {},
   "cell_type": "markdown",
   "metadata": {},
   "source": [
    "We saw that RNNs can suffer from the vanishing gradient problem, which means that the gradients used to update the parameters of the network can become very small over time, leading to slow convergence and poor performance. Now let's see how we can solve that issue.\n"
   ]
  },
  {
   "attachments": {},
   "cell_type": "markdown",
   "metadata": {},
   "source": [
    "### 3.1 LSTM Cell"
   ]
  },
  {
   "attachments": {},
   "cell_type": "markdown",
   "metadata": {},
   "source": [
    "\n",
    "LSTMs are designed to overcome the vanishing gradient problem by using a more sophisticated architecture that incorporates a memory cell and multiple gating mechanisms. The memory cell is responsible for storing information over long periods of time, while the gating mechanisms control the flow of information into and out of the cell. This allows LSTMs to selectively forget or remember information, which makes them more effective in capturing long-term dependencies in sequential data. Below you can see the architecture of an LSTM cell:"
   ]
  },
  {
   "attachments": {},
   "cell_type": "markdown",
   "metadata": {},
   "source": [
    "<img align='center' style='max-width: 700px' src='figures/lstmcell.png'>"
   ]
  },
  {
   "attachments": {},
   "cell_type": "markdown",
   "metadata": {},
   "source": [
    "Everything remails similar to the RNN implementation, but here we want to use the PyTorch's LSTM module from `nn.LSTM` instead of implementing it from scatch. Let's first create an instance of an LSTM cell and see how we can interact with it."
   ]
  },
  {
   "cell_type": "code",
   "execution_count": 32,
   "metadata": {},
   "outputs": [],
   "source": [
    "# Create an instance of nn.LSTM. It's import to set batch_first=True if the data tensor shape is B x L x D\n",
    "lstm = nn.LSTM(10, 30, batch_first=True)\n",
    "# Initialize input, and the first hidden and context vectors\n",
    "inp = torch.randn(5, 3, 10)\n",
    "h0 = torch.randn(1, 5, 30)\n",
    "c0 = torch.randn(1, 5, 30)\n",
    "# Forward\n",
    "output, (hn, cn) = lstm(inp, (h0, c0))"
   ]
  },
  {
   "attachments": {},
   "cell_type": "markdown",
   "metadata": {},
   "source": [
    "### 3.2 LSTM Model"
   ]
  },
  {
   "attachments": {},
   "cell_type": "markdown",
   "metadata": {},
   "source": [
    "Now, let's implement the LSTM model. We use an `nn.Embedding` module to conver character IDs to learnable tensors."
   ]
  },
  {
   "cell_type": "code",
   "execution_count": 33,
   "metadata": {},
   "outputs": [],
   "source": [
    "class LSTMModel(nn.Module):\n",
    "    def __init__(self, vocab_size, hidden_size, dropout=0.5):\n",
    "        super(LSTMModel, self).__init__()\n",
    "        self.hidden_size = hidden_size\n",
    "        # Character embedding module\n",
    "        self.embedding = nn.Embedding(vocab_size, hidden_size)\n",
    "        # PyTorch's LSTM module\n",
    "        self.lstm = nn.LSTM(hidden_size, hidden_size, dropout=dropout, batch_first=True)\n",
    "        # Classification layer\n",
    "        self.fc = nn.Linear(hidden_size, vocab_size)\n",
    "\n",
    "    def forward(self, x, hidden):\n",
    "        x = self.embedding(x)\n",
    "        output, hidden = self.lstm(x, hidden)\n",
    "        output = self.fc(output)\n",
    "        return output, hidden\n",
    "\n",
    "    def init_hidden(self, batch_size):\n",
    "        hidden = (torch.zeros(1, batch_size, self.hidden_size),\n",
    "                  torch.zeros(1, batch_size, self.hidden_size))\n",
    "        return hidden\n"
   ]
  },
  {
   "attachments": {},
   "cell_type": "markdown",
   "metadata": {},
   "source": [
    "### 3.3 Training"
   ]
  },
  {
   "attachments": {},
   "cell_type": "markdown",
   "metadata": {},
   "source": [
    "And the final step is to train the LSTM model:"
   ]
  },
  {
   "cell_type": "code",
   "execution_count": 34,
   "metadata": {},
   "outputs": [
    {
     "name": "stderr",
     "output_type": "stream",
     "text": [
      "/Users/hamed/miniconda3/envs/dl/lib/python3.9/site-packages/torch/nn/modules/rnn.py:71: UserWarning: dropout option adds dropout after all but last recurrent layer, so non-zero dropout expects num_layers greater than 1, but got dropout=0.5 and num_layers=1\n",
      "  warnings.warn(\"dropout option adds dropout after all but last \"\n",
      "Loss: 0.72873: 100%|██████████| 734/734 [00:43<00:00, 16.72it/s]\n",
      "Loss: 0.28775: 100%|██████████| 734/734 [00:44<00:00, 16.37it/s]\n",
      "Loss: 0.22862: 100%|██████████| 734/734 [00:43<00:00, 16.70it/s]\n",
      "Loss: 0.20182: 100%|██████████| 734/734 [00:44<00:00, 16.42it/s]\n",
      "Loss: 0.17836: 100%|██████████| 734/734 [00:44<00:00, 16.52it/s]\n"
     ]
    }
   ],
   "source": [
    "device = torch.device(\"cpu\")\n",
    "\n",
    "dataset = SonnetDataset(ds_path=\"./sonnet.txt\", seq_length=100)\n",
    "\n",
    "# Hyperparameters\n",
    "hidden_size = 512\n",
    "seq_length = 200\n",
    "batch_size = 128 \n",
    "num_epochs = 5\n",
    "learning_rate = 0.001\n",
    "\n",
    "# Create dataset and dataloader\n",
    "dataloader = DataLoader(dataset, batch_size=batch_size, shuffle=True, drop_last=True)\n",
    "\n",
    "# Instantiate the model and the loss function\n",
    "model = LSTMModel(vocab_size=len(dataset.chars), hidden_size=hidden_size,)\n",
    "model.to(device)\n",
    "criterion = nn.CrossEntropyLoss()\n",
    "optimizer = torch.optim.Adam(model.parameters(), lr=learning_rate)\n",
    "\n",
    "# Train the model\n",
    "epoch_losses = []\n",
    "for epoch in range(num_epochs):\n",
    "    model.train()\n",
    "    dataloader_progress = tqdm.tqdm(dataloader)\n",
    "    iter_losses = []\n",
    "    for i, (inputs, targets) in enumerate(dataloader_progress):\n",
    "        inputs, targets = inputs.to(device), targets.to(device)\n",
    "        batch_size = inputs.size(0)\n",
    "\n",
    "        # Initialize the hidden state\n",
    "        hidden = model.init_hidden(batch_size)\n",
    "        hidden = (hidden[0].to(device), hidden[1].to(device))\n",
    "        \n",
    "        optimizer.zero_grad()\n",
    "        loss = 0\n",
    "        \n",
    "        # Forward pass\n",
    "        output, hidden = model(inputs, hidden)\n",
    "\n",
    "        # To enable a faster computation of the loss at each step, we linearize\n",
    "        # predictions and targets for all steps and compute the loss for all steps together\n",
    "        loss = criterion(output.view(-1, output.shape[2]), targets.view(-1))\n",
    "        \n",
    "        # Backpropagation and optimizer step\n",
    "        loss.backward()\n",
    "        optimizer.step()\n",
    "\n",
    "        iter_losses.append(loss.item())\n",
    "        dataloader_progress.set_description(f\"Loss: {loss.item():0.5f}\")\n",
    "    print(f'Epoch {epoch + 1}/{num_epochs} completed')\n",
    "    epoch_losses.append(np.mean(iter_losses))\n",
    "    "
   ]
  },
  {
   "cell_type": "code",
   "execution_count": 35,
   "metadata": {},
   "outputs": [],
   "source": [
    "# torch.save(model, \"ckpt_lstm.pt\")"
   ]
  },
  {
   "cell_type": "code",
   "execution_count": 36,
   "metadata": {},
   "outputs": [
    {
     "data": {
      "image/png": "[encoded data removed]",
      "text/plain": [
       "<Figure size 640x480 with 1 Axes>"
      ]
     },
     "metadata": {},
     "output_type": "display_data"
    }
   ],
   "source": [
    "# Prepare plot\n",
    "fig = plt.figure()\n",
    "ax = fig.add_subplot(111)\n",
    "\n",
    "# Add grid\n",
    "ax.grid(linestyle='dotted')\n",
    "\n",
    "# Plot the training epochs vs. the epochs' classification error\n",
    "ax.plot(np.array(range(1, len(epoch_losses)+1)), epoch_losses, label='epoch loss (blue)')\n",
    "\n",
    "# Plot details\n",
    "ax.set_xlabel(\"[training epoch $e_i$]\", fontsize=10)\n",
    "ax.set_ylabel(\"[Classification Error $\\mathcal{L}^{NLL}$]\", fontsize=10)\n",
    "plt.legend(loc=\"upper right\", numpoints=1, fancybox=True)\n",
    "plt.title('RNN Train Loss', fontsize=10);"
   ]
  },
  {
   "attachments": {},
   "cell_type": "markdown",
   "metadata": {},
   "source": [
    "### 3.4 Testing"
   ]
  },
  {
   "cell_type": "code",
   "execution_count": 43,
   "metadata": {},
   "outputs": [
    {
     "data": {
      "text/plain": [
       "'Saint Gallen, where the est my groans, or upon thy hours,\\nAnd men that beauty of thy bl'"
      ]
     },
     "execution_count": 43,
     "metadata": {},
     "output_type": "execute_result"
    }
   ],
   "source": [
    "\n",
    "prompt = \"Saint Gallen, where the \"\n",
    "generate_text(model, dataset.char_to_int, dataset.int_to_char, prompt, device=device)"
   ]
  },
  {
   "cell_type": "code",
   "execution_count": 53,
   "metadata": {},
   "outputs": [
    {
     "data": {
      "text/plain": [
       "' hat time, if ever that touches knows,\\nAnd lack my love still telling what is told, though '"
      ]
     },
     "execution_count": 53,
     "metadata": {},
     "output_type": "execute_result"
    }
   ],
   "source": [
    "prompt = \" \"\n",
    "generate_text(model, dataset.char_to_int, dataset.int_to_char, prompt, device=device)"
   ]
  },
  {
   "cell_type": "code",
   "execution_count": null,
   "metadata": {},
   "outputs": [],
   "source": []
  }
 ],
 "metadata": {
  "kernelspec": {
   "display_name": "Python 3 (ipykernel)",
   "language": "python",
   "name": "python3"
  },
  "language_info": {
   "codemirror_mode": {
    "name": "ipython",
    "version": 3
   },
   "file_extension": ".py",
   "mimetype": "text/x-python",
   "name": "python",
   "nbconvert_exporter": "python",
   "pygments_lexer": "ipython3",
   "version": "3.9.16"
  }
 },
 "nbformat": 4,
 "nbformat_minor": 2
}
